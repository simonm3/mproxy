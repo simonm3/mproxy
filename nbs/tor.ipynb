{
 "cells": [
  {
   "cell_type": "code",
   "execution_count": 1,
   "metadata": {},
   "outputs": [
    {
     "data": {
      "text/html": [
       "<style>audio{display:none}</style>"
      ],
      "text/plain": [
       "<IPython.core.display.HTML object>"
      ]
     },
     "metadata": {},
     "output_type": "display_data"
    }
   ],
   "source": [
    "from ipstartup import *\n",
    "import logging\n",
    "\n",
    "import requests\n",
    "\n",
    "from mproxy import Manager, Task, AWS, Tor\n",
    "from mproxy.source import google\n",
    "\n",
    "log = logging.getLogger(__name__)"
   ]
  },
  {
   "cell_type": "code",
   "execution_count": 14,
   "metadata": {},
   "outputs": [
    {
     "name": "stderr",
     "output_type": "stream",
     "text": [
      "[cellevents:43:INFO]:starting (time=Jul-08 19:31 MainProcess)\n"
     ]
    },
    {
     "name": "stdout",
     "output_type": "stream",
     "text": [
      "time: 2 ms\n"
     ]
    }
   ],
   "source": [
    "m = Manager()\n",
    "m.add(Tor, 1)"
   ]
  },
  {
   "cell_type": "code",
   "execution_count": 15,
   "metadata": {},
   "outputs": [
    {
     "name": "stderr",
     "output_type": "stream",
     "text": [
      "[cellevents:43:INFO]:starting (time=Jul-08 19:31 MainProcess)\n",
      "[stem:174:DEBUG]:GETCONF __owningcontrollerprocess (runtime: 0.0000) (time=Jul-08 19:32 MainProcess)\n",
      "[stem:174:DEBUG]:GETINFO version (runtime: 0.0000) (time=Jul-08 19:32 MainProcess)\n",
      "[stem:174:TRACE]:GETCONF __owningcontrollerprocess (cache fetch) (time=Jul-08 19:32 MainProcess)\n"
     ]
    },
    {
     "name": "stdout",
     "output_type": "stream",
     "text": [
      "time: 10 s\n"
     ]
    }
   ],
   "source": [
    "t=Task(m)\n",
    "search = t.use_proxies(google.search)"
   ]
  },
  {
   "cell_type": "code",
   "execution_count": 17,
   "metadata": {},
   "outputs": [
    {
     "name": "stderr",
     "output_type": "stream",
     "text": [
      "[cellevents:43:INFO]:starting (time=Jul-08 19:32 MainProcess)\n",
      "[mproxy.source.google:79:INFO]:https://www.google.com/sorry/index?continue=https://www.google.com/search%3Fq%3Dafter%253A2020-07-01%2Bbefore%253A2020-07-01%2Btrump%26hl%3Den%26tbm%3D%26start%3D1%26num%3D99&hl=en&q=EgS53GUWGLOimPgFIhkA8aeDS6xic1nBo1oepUe_XKSkC8nI3UkdMgFy (time=Jul-08 19:32 MainProcess)\n",
      "[mproxy.manager:45:INFO]:localhost stopped after 0 requests (time=Jul-08 19:32 MainProcess)\n",
      "[stem:174:DEBUG]:GETCONF __owningcontrollerprocess (runtime: 0.0020) (time=Jul-08 19:32 MainProcess)\n",
      "[stem:174:DEBUG]:GETINFO version (runtime: 0.0010) (time=Jul-08 19:32 MainProcess)\n",
      "[stem:174:TRACE]:GETCONF __owningcontrollerprocess (cache fetch) (time=Jul-08 19:32 MainProcess)\n"
     ]
    },
    {
     "ename": "TypeError",
     "evalue": "object of type 'NoneType' has no len()",
     "output_type": "error",
     "traceback": [
      "\u001b[1;31m---------------------------------------------------------------------------\u001b[0m",
      "\u001b[1;31mTypeError\u001b[0m                                 Traceback (most recent call last)",
      "\u001b[1;32m<ipython-input-17-0783be77e0d3>\u001b[0m in \u001b[0;36m<module>\u001b[1;34m\u001b[0m\n\u001b[0;32m      1\u001b[0m \u001b[0murls\u001b[0m \u001b[1;33m=\u001b[0m \u001b[0msearch\u001b[0m\u001b[1;33m(\u001b[0m\u001b[1;34m\"trump\"\u001b[0m\u001b[1;33m,\u001b[0m \u001b[0mbefore\u001b[0m\u001b[1;33m=\u001b[0m\u001b[1;34m\"20200701\"\u001b[0m\u001b[1;33m,\u001b[0m \u001b[0mafter\u001b[0m\u001b[1;33m=\u001b[0m\u001b[1;34m\"20200701\"\u001b[0m\u001b[1;33m)\u001b[0m\u001b[1;33m\u001b[0m\u001b[1;33m\u001b[0m\u001b[0m\n\u001b[1;32m----> 2\u001b[1;33m \u001b[0mlen\u001b[0m\u001b[1;33m(\u001b[0m\u001b[0murls\u001b[0m\u001b[1;33m)\u001b[0m\u001b[1;33m,\u001b[0m \u001b[0murls\u001b[0m\u001b[1;33m[\u001b[0m\u001b[1;33m:\u001b[0m\u001b[1;36m10\u001b[0m\u001b[1;33m]\u001b[0m\u001b[1;33m\u001b[0m\u001b[1;33m\u001b[0m\u001b[0m\n\u001b[0m",
      "\u001b[1;31mTypeError\u001b[0m: object of type 'NoneType' has no len()"
     ]
    },
    {
     "name": "stdout",
     "output_type": "stream",
     "text": [
      "time: 19.5 s\n"
     ]
    }
   ],
   "source": [
    "urls = search(\"trump\", before=\"20200701\", after=\"20200701\")\n",
    "len(urls), urls[:10]"
   ]
  },
  {
   "cell_type": "code",
   "execution_count": 106,
   "metadata": {},
   "outputs": [
    {
     "name": "stderr",
     "output_type": "stream",
     "text": [
      "[cellevents:43:INFO]:starting (time=Jul-08 18:04 MainProcess)\n"
     ]
    },
    {
     "name": "stdout",
     "output_type": "stream",
     "text": [
      "time: 998 µs\n"
     ]
    }
   ],
   "source": [
    "# stop proxies\n",
    "m.stop()"
   ]
  }
 ],
 "metadata": {
  "jupytext": {
   "text_representation": {
    "extension": ".py",
    "format_name": "light",
    "format_version": "1.5",
    "jupytext_version": "1.5.0"
   }
  },
  "kernelspec": {
   "display_name": "Python 3",
   "language": "python",
   "name": "python3"
  },
  "language_info": {
   "codemirror_mode": {
    "name": "ipython",
    "version": 3
   },
   "file_extension": ".py",
   "mimetype": "text/x-python",
   "name": "python",
   "nbconvert_exporter": "python",
   "pygments_lexer": "ipython3",
   "version": "3.7.6"
  }
 },
 "nbformat": 4,
 "nbformat_minor": 4
}
