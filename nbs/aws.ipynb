{
 "cells": [
  {
   "cell_type": "code",
   "execution_count": 1,
   "metadata": {},
   "outputs": [
    {
     "data": {
      "text/html": [
       "<style>audio{display:none}</style>"
      ],
      "text/plain": [
       "<IPython.core.display.HTML object>"
      ]
     },
     "metadata": {},
     "output_type": "display_data"
    }
   ],
   "source": [
    "from ipstartup import *\n",
    "import logging\n",
    "\n",
    "import requests\n",
    "\n",
    "from mproxy import Manager, Task, AWS, Tor\n",
    "from mproxy.source import google\n",
    "\n",
    "log = logging.getLogger(__name__)"
   ]
  },
  {
   "cell_type": "code",
   "execution_count": 80,
   "metadata": {},
   "outputs": [
    {
     "name": "stderr",
     "output_type": "stream",
     "text": [
      "[cellevents:43:INFO]:starting (time=Jul-08 17:55 MainProcess)\n"
     ]
    },
    {
     "name": "stdout",
     "output_type": "stream",
     "text": [
      "time: 1.01 ms\n"
     ]
    }
   ],
   "source": [
    "# initialise manager/proxies\n",
    "m = Manager()\n",
    "m.add(AWS, 2)\n",
    "\n",
    "# initialise task for each process. can use multiple tasks to rotate proxies manually.\n",
    "t = Task(m)\n",
    "search = t.use_proxies(google.search)"
   ]
  },
  {
   "cell_type": "code",
   "execution_count": 84,
   "metadata": {},
   "outputs": [
    {
     "name": "stderr",
     "output_type": "stream",
     "text": [
      "[cellevents:43:INFO]:starting (time=Jul-08 17:57 MainProcess)\n",
      "[mproxy.source.google:77:INFO]:https://www.google.com/search?q=after%3A2020-07-01+before%3A2020-07-01+trump&hl=en&tbm=&start=1&num=99 (time=Jul-08 17:57 MainProcess)\n"
     ]
    },
    {
     "data": {
      "text/plain": [
       "(69,\n",
       " ['https://www.whitehouse.gov/people/donald-j-trump/',\n",
       "  'https://www.theguardian.com/us-news/2020/jul/07/donald-trump-mary-niece-book-eight-most-shocking-claims',\n",
       "  'https://www.theguardian.com/us-news/donaldtrump',\n",
       "  'https://edition.cnn.com/2020/07/07/politics/donald-trump-gallup-poll-2020-election/index.html',\n",
       "  'https://edition.cnn.com/2020/07/07/politics/mary-trump-book-donald-trump/index.html',\n",
       "  'https://www.theatlantic.com/magazine/archive/2016/06/the-mind-of-donald-trump/480771/',\n",
       "  'https://en.wikipedia.org/wiki/Donald_Trump',\n",
       "  'https://en.wikipedia.org/wiki/Mike_Pence',\n",
       "  'https://en.wikipedia.org/wiki/Republican_Party_(United_States)',\n",
       "  'https://en.wikipedia.org/wiki/Democratic_Party_(United_States)'])"
      ]
     },
     "execution_count": 84,
     "metadata": {},
     "output_type": "execute_result"
    },
    {
     "name": "stdout",
     "output_type": "stream",
     "text": [
      "time: 957 ms\n"
     ]
    }
   ],
   "source": [
    "# run searches\n",
    "urls = search(\"trump\", before=\"20200701\", after=\"20200701\")\n",
    "len(urls), urls[:10]"
   ]
  },
  {
   "cell_type": "code",
   "execution_count": 106,
   "metadata": {},
   "outputs": [
    {
     "name": "stderr",
     "output_type": "stream",
     "text": [
      "[cellevents:43:INFO]:starting (time=Jul-08 18:04 MainProcess)\n"
     ]
    },
    {
     "name": "stdout",
     "output_type": "stream",
     "text": [
      "time: 998 µs\n"
     ]
    }
   ],
   "source": [
    "# stop proxies\n",
    "m.stop()"
   ]
  }
 ],
 "metadata": {
  "jupytext": {
   "text_representation": {
    "extension": ".py",
    "format_name": "light",
    "format_version": "1.5",
    "jupytext_version": "1.5.0"
   }
  },
  "kernelspec": {
   "display_name": "Python 3",
   "language": "python",
   "name": "python3"
  },
  "language_info": {
   "codemirror_mode": {
    "name": "ipython",
    "version": 3
   },
   "file_extension": ".py",
   "mimetype": "text/x-python",
   "name": "python",
   "nbconvert_exporter": "python",
   "pygments_lexer": "ipython3",
   "version": "3.7.6"
  }
 },
 "nbformat": 4,
 "nbformat_minor": 4
}
