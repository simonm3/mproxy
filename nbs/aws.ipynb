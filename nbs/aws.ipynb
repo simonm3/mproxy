{
 "cells": [
  {
   "cell_type": "code",
   "execution_count": 68,
   "metadata": {},
   "outputs": [
    {
     "name": "stderr",
     "output_type": "stream",
     "text": [
      "[cellevents:43:INFO]:starting (time=Jul-09 15:01 MainProcess)\n"
     ]
    },
    {
     "name": "stdout",
     "output_type": "stream",
     "text": [
      "time: 2 ms\n"
     ]
    }
   ],
   "source": [
    "from ipstartup import *\n",
    "from mproxy import AWS, Manager, Tor\n",
    "from mproxy.source import google"
   ]
  },
  {
   "cell_type": "code",
   "execution_count": null,
   "metadata": {},
   "outputs": [],
   "source": [
    "# initialise\n",
    "m = Manager()\n",
    "m.add(AWS, 2)\n",
    "search = m.get_proxy_function(google.search)"
   ]
  },
  {
   "cell_type": "code",
   "execution_count": 5,
   "metadata": {},
   "outputs": [
    {
     "name": "stderr",
     "output_type": "stream",
     "text": [
      "[cellevents:43:INFO]:starting (time=Jul-09 13:42 MainProcess)\n",
      "[mproxy.source.google:79:INFO]:https://www.google.com/search?q=after%3A2020-07-01+before%3A2020-07-01+trump&hl=en&tbm=&start=1&num=99 (time=Jul-09 13:42 MainProcess)\n"
     ]
    },
    {
     "data": {
      "text/plain": [
       "(69,\n",
       " ['https://www.whitehouse.gov/people/donald-j-trump/',\n",
       "  'https://edition.cnn.com/2020/07/08/politics/what-matters-july-8/index.html',\n",
       "  'https://edition.cnn.com/2020/07/09/politics/donald-trump-coronavirus-science-education/index.html',\n",
       "  'https://www.theguardian.com/us-news/donaldtrump',\n",
       "  'https://www.theguardian.com/world/2020/jul/09/canada-coronavirus-us-justin-trudeau-donald-trump',\n",
       "  'https://en.wikipedia.org/wiki/Donald_Trump',\n",
       "  'https://en.wikipedia.org/wiki/Mike_Pence',\n",
       "  'https://en.wikipedia.org/wiki/Republican_Party_(United_States)',\n",
       "  'https://en.wikipedia.org/wiki/Democratic_Party_(United_States)',\n",
       "  'https://www.bbc.com/news/world-us-canada-53337818'])"
      ]
     },
     "execution_count": 5,
     "metadata": {},
     "output_type": "execute_result"
    },
    {
     "name": "stdout",
     "output_type": "stream",
     "text": [
      "time: 3.02 s\n"
     ]
    }
   ],
   "source": [
    "# run searches\n",
    "urls = search(\"trump\", before=\"20200701\", after=\"20200701\")\n",
    "len(urls), urls[:10]"
   ]
  },
  {
   "cell_type": "code",
   "execution_count": 67,
   "metadata": {},
   "outputs": [
    {
     "name": "stderr",
     "output_type": "stream",
     "text": [
      "[cellevents:43:INFO]:starting (time=Jul-09 14:31 MainProcess)\n",
      "[mproxy.manager:44:WARNING]:no proxies to remove (time=Jul-09 14:31 MainProcess)\n"
     ]
    },
    {
     "name": "stdout",
     "output_type": "stream",
     "text": [
      "time: 2 ms\n"
     ]
    }
   ],
   "source": [
    "m.remove()"
   ]
  },
  {
   "cell_type": "code",
   "execution_count": 52,
   "metadata": {},
   "outputs": [
    {
     "name": "stderr",
     "output_type": "stream",
     "text": [
      "[cellevents:43:INFO]:starting (time=Jul-09 14:11 MainProcess)\n"
     ]
    },
    {
     "name": "stdout",
     "output_type": "stream",
     "text": [
      "time: 975 µs\n"
     ]
    }
   ],
   "source": [
    "# stop proxies\n",
    "m.stop()"
   ]
  }
 ],
 "metadata": {
  "jupytext": {
   "text_representation": {
    "extension": ".py",
    "format_name": "light",
    "format_version": "1.5",
    "jupytext_version": "1.5.0"
   }
  },
  "kernelspec": {
   "display_name": "Python 3",
   "language": "python",
   "name": "python3"
  },
  "language_info": {
   "codemirror_mode": {
    "name": "ipython",
    "version": 3
   },
   "file_extension": ".py",
   "mimetype": "text/x-python",
   "name": "python",
   "nbconvert_exporter": "python",
   "pygments_lexer": "ipython3",
   "version": "3.7.6"
  }
 },
 "nbformat": 4,
 "nbformat_minor": 4
}
