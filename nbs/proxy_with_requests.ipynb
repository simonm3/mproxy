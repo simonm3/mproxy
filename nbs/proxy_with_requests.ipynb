{
 "cells": [
  {
   "cell_type": "markdown",
   "metadata": {},
   "source": [
    "# Proxy with requests\n",
    "\n",
    "Typically it is easier to use proxy with automatic replacement. However it can also be used directly with requests"
   ]
  },
  {
   "cell_type": "code",
   "execution_count": 8,
   "metadata": {},
   "outputs": [
    {
     "name": "stderr",
     "output_type": "stream",
     "text": [
      "[cellevents:43:INFO]:starting (time=Apr-22 19:39 MainProcess)\n"
     ]
    },
    {
     "name": "stdout",
     "output_type": "stream",
     "text": [
      "time: 0 ns\n"
     ]
    }
   ],
   "source": [
    "from ipstartup import *\n",
    "from mproxy import Mproxy, Search, Stypes, Translate\n",
    "import requests\n",
    "from fake_useragent import UserAgent\n",
    "from time import sleep"
   ]
  },
  {
   "cell_type": "code",
   "execution_count": 2,
   "metadata": {
    "scrolled": true
   },
   "outputs": [
    {
     "name": "stderr",
     "output_type": "stream",
     "text": [
      "[cellevents:43:INFO]:starting (time=Apr-22 19:37 MainProcess)\n",
      "[mproxy.mproxy:186:INFO]:(1, 1) (time=Apr-22 19:37 MainProcess)\n"
     ]
    },
    {
     "name": "stdout",
     "output_type": "stream",
     "text": [
      "time: 2.73 s\n"
     ]
    }
   ],
   "source": [
    "# start two proxy servers\n",
    "m = Mproxy()\n",
    "m.set(1)\n",
    "m.wait(1)"
   ]
  },
  {
   "cell_type": "code",
   "execution_count": 3,
   "metadata": {
    "scrolled": true
   },
   "outputs": [
    {
     "name": "stderr",
     "output_type": "stream",
     "text": [
      "[cellevents:43:INFO]:starting (time=Apr-22 19:37 MainProcess)\n"
     ]
    },
    {
     "data": {
      "text/html": [
       "<div>\n",
       "<style scoped>\n",
       "    .dataframe tbody tr th:only-of-type {\n",
       "        vertical-align: middle;\n",
       "    }\n",
       "\n",
       "    .dataframe tbody tr th {\n",
       "        vertical-align: top;\n",
       "    }\n",
       "\n",
       "    .dataframe thead th {\n",
       "        text-align: right;\n",
       "    }\n",
       "</style>\n",
       "<table border=\"1\" class=\"dataframe\">\n",
       "  <thead>\n",
       "    <tr style=\"text-align: right;\">\n",
       "      <th></th>\n",
       "      <th>name</th>\n",
       "      <th>instance_id</th>\n",
       "      <th>image</th>\n",
       "      <th>type</th>\n",
       "      <th>state</th>\n",
       "      <th>ip</th>\n",
       "      <th>user</th>\n",
       "      <th>ready</th>\n",
       "      <th>persistent</th>\n",
       "    </tr>\n",
       "  </thead>\n",
       "  <tbody>\n",
       "    <tr>\n",
       "      <th>0</th>\n",
       "      <td>proxy_stacey</td>\n",
       "      <td>i-0b4d8afbbcaab26ea</td>\n",
       "      <td>ami-03d8261f577d71b6a</td>\n",
       "      <td>t3.nano</td>\n",
       "      <td>terminated</td>\n",
       "      <td></td>\n",
       "      <td>ubuntu</td>\n",
       "      <td>False</td>\n",
       "      <td>False</td>\n",
       "    </tr>\n",
       "    <tr>\n",
       "      <th>1</th>\n",
       "      <td>proxy_chloe</td>\n",
       "      <td>i-02ee5f8be44b68942</td>\n",
       "      <td>ami-03d8261f577d71b6a</td>\n",
       "      <td>t3.nano</td>\n",
       "      <td>running</td>\n",
       "      <td>34.244.135.7</td>\n",
       "      <td>ubuntu</td>\n",
       "      <td>True</td>\n",
       "      <td>False</td>\n",
       "    </tr>\n",
       "  </tbody>\n",
       "</table>\n",
       "</div>"
      ],
      "text/plain": [
       "           name          instance_id                  image     type  \\\n",
       "0  proxy_stacey  i-0b4d8afbbcaab26ea  ami-03d8261f577d71b6a  t3.nano   \n",
       "1   proxy_chloe  i-02ee5f8be44b68942  ami-03d8261f577d71b6a  t3.nano   \n",
       "\n",
       "        state            ip    user  ready persistent  \n",
       "0  terminated                ubuntu  False      False  \n",
       "1     running  34.244.135.7  ubuntu   True      False  "
      ]
     },
     "execution_count": 3,
     "metadata": {},
     "output_type": "execute_result"
    },
    {
     "name": "stdout",
     "output_type": "stream",
     "text": [
      "time: 15.1 ms\n"
     ]
    }
   ],
   "source": [
    "m.df"
   ]
  },
  {
   "cell_type": "code",
   "execution_count": 4,
   "metadata": {},
   "outputs": [
    {
     "name": "stderr",
     "output_type": "stream",
     "text": [
      "[cellevents:43:INFO]:starting (time=Apr-22 19:37 MainProcess)\n",
      "[mproxy.mproxy:86:INFO]:proxy http://34.244.135.7:8888 assigned (time=Apr-22 19:37 MainProcess)\n"
     ]
    },
    {
     "data": {
      "text/plain": [
       "'http://34.244.135.7:8888'"
      ]
     },
     "execution_count": 4,
     "metadata": {},
     "output_type": "execute_result"
    },
    {
     "name": "stdout",
     "output_type": "stream",
     "text": [
      "time: 11.4 ms\n"
     ]
    }
   ],
   "source": [
    "# get a proxy_url url\n",
    "m.get_proxy_url()"
   ]
  },
  {
   "cell_type": "markdown",
   "metadata": {},
   "source": [
    "To use with requests just obtain a proxy url and set the proxies parameter. Running this cell repeatedly iterates the proxies."
   ]
  },
  {
   "cell_type": "code",
   "execution_count": 5,
   "metadata": {},
   "outputs": [
    {
     "name": "stderr",
     "output_type": "stream",
     "text": [
      "[cellevents:43:INFO]:starting (time=Apr-22 19:37 MainProcess)\n",
      "[mproxy.mproxy:86:INFO]:proxy http://34.244.135.7:8888 assigned (time=Apr-22 19:37 MainProcess)\n"
     ]
    },
    {
     "name": "stdout",
     "output_type": "stream",
     "text": [
      "http://34.244.135.7:8888\n"
     ]
    },
    {
     "data": {
      "text/plain": [
       "'34.244.135.7'"
      ]
     },
     "execution_count": 5,
     "metadata": {},
     "output_type": "execute_result"
    },
    {
     "name": "stdout",
     "output_type": "stream",
     "text": [
      "time: 8.11 s\n"
     ]
    }
   ],
   "source": [
    "# call requests.get as normal with the proxies parameter\n",
    "proxy = m.get_proxy_url()\n",
    "proxies=dict(http=proxy)\n",
    "url = \"http://api.ipify.org\"\n",
    "r = requests.get(url, headers=dict(User_Agent=UserAgent().chrome), proxies=proxies)\n",
    "print(proxy)\n",
    "r.text"
   ]
  },
  {
   "cell_type": "code",
   "execution_count": 6,
   "metadata": {
    "collapsed": true
   },
   "outputs": [
    {
     "name": "stderr",
     "output_type": "stream",
     "text": [
      "[cellevents:43:INFO]:starting (time=Apr-22 19:38 MainProcess)\n",
      "[mproxy.mproxy:86:INFO]:proxy http://34.244.135.7:8888 assigned (time=Apr-22 19:38 MainProcess)\n"
     ]
    },
    {
     "data": {
      "text/plain": [
       "['https://www.cso.ie/en/statistics/prices/',\n",
       " 'https://www.rte.ie/news/business/2020/0420/1132743-coronavirus-could-see-milk-prices-fall-by-20/',\n",
       " 'https://www.rte.ie/news/newslens/2020/0420/1132742-oil-explainer/',\n",
       " 'https://www.bordbia.ie/farmers-growers/prices-markets/prices-markets/',\n",
       " 'https://en.wikipedia.org/wiki/Price',\n",
       " 'https://www.bonkers.ie/compare-gas-electricity-prices/',\n",
       " 'https://www.citizensinformation.ie/en/consumer_affairs/consumer_protection/pricing/',\n",
       " 'https://thecai.ie/your-rights/your-rights/pricing/',\n",
       " 'https://www.davy.ie/market-and-insights',\n",
       " 'https://www.numbeo.com/cost-of-living/country_result.jsp?country=Ireland',\n",
       " 'https://www.housing.gov.ie/housing/statistics/house-prices-loans-and-profile-borrowers/house-price-statistics',\n",
       " 'https://www.electricireland.ie/switch',\n",
       " 'https://www.electricireland.ie/switch/new-customer/price-plans/electricity-and-gas?priceType=D',\n",
       " 'https://www.seai.ie/data-and-insights/seai-statistics/key-statistics/prices/',\n",
       " 'https://parcelmotel.com/prices/',\n",
       " 'https://www.gov.ie/en/service/get-the-latest-beef-price/',\n",
       " 'https://www.dublinzoo.ie/your-visit/zoo-prices/',\n",
       " 'https://www.eir.ie/group/pricing/',\n",
       " 'https://www.three.ie/legal/pricing/',\n",
       " 'https://www.propertypriceregister.ie/',\n",
       " 'https://www.myhome.ie/pricechanges',\n",
       " 'https://www.aquazone.ie/times-prices',\n",
       " 'https://www.ikea.com/ie/en/customer-service/services/delivery/',\n",
       " 'https://tradingeconomics.com/commodities',\n",
       " 'https://www.agriland.ie/farming-news/category/beef',\n",
       " 'https://www.hubspot.com/pricing/marketing',\n",
       " 'https://www.ford.ie/cars',\n",
       " 'https://www.allhomes.ie/pricing.html',\n",
       " 'https://www.thejournal.ie/petrol-prices-oil-garages-5081086-Apr2020/',\n",
       " 'https://www.intercom.com/pricing',\n",
       " 'http://www.theaa.ie/aa/motoring-advice/petrol-prices.aspx',\n",
       " 'https://www.bullionbypost.ie/gold-price/',\n",
       " 'https://www.dublinbaycruises.com/bookings/ticket-prices/',\n",
       " 'https://www.londonstockexchange.com/prices-and-markets/markets/prices.htm',\n",
       " 'https://www.adventurepark.ie/prices/',\n",
       " 'https://aws.amazon.com/pricing/',\n",
       " 'https://www.did.ie/tvs',\n",
       " 'https://www.cliffsofmoher.ie/plan-your-visit/tickets-prices/',\n",
       " 'https://whiteriver.ie/arrive-and-drive/',\n",
       " 'http://www.mrprice.ie/',\n",
       " 'https://www.shopify.ie/pricing',\n",
       " 'http://www.dublinbikes.ie/Subscription/Pricing-Structure/Pricing-structure',\n",
       " 'https://stripe.com/ie/pricing',\n",
       " 'https://newrelic.com/products/application-monitoring/pricing',\n",
       " 'https://rightpricetiles.ie/',\n",
       " 'https://static.rasset.ie/documents/news/2018/05/rent-report.pdf',\n",
       " 'https://www.daft.ie/price-register/dublin/',\n",
       " 'https://www.asx.com.au/asx/markets/equityPrices.do',\n",
       " 'https://www.squarespace.com/pricing',\n",
       " 'https://www.pubble.io/pricing',\n",
       " 'https://www.aesirl.ie/home/price-plans/',\n",
       " 'https://markets.ft.com/data/commodities',\n",
       " 'https://www.energia.ie/price-plans/electricity',\n",
       " 'https://www.paddypower.com/darts',\n",
       " 'https://support.office.com/en-us/article/onedrive-changes-for-office-365-home-personal-and-university-subscribers-478fbf09-fd6c-4b6f-8c5d-18598cb0b200',\n",
       " 'https://www.the42.ie/prices/news/',\n",
       " 'https://www.theatlantic.com/magazine/archive/2017/05/how-online-shopping-makes-suckers-of-us-all/521448/',\n",
       " 'https://www.zendesk.com/chat/pricing/',\n",
       " 'https://glenvillenutrition.ie/clinic-prices/',\n",
       " 'https://keepa.com/',\n",
       " 'https://my.babbel.com/en/prices',\n",
       " 'https://www.bloomberg.com/energy',\n",
       " 'https://www.microsoft.com/en-ie/microsoft-365/compare-all-microsoft-365-products',\n",
       " 'https://www.modelvillage.ie/index.php/opening-times-prices',\n",
       " 'https://publicapps.agriculture.gov.ie/bpw',\n",
       " 'https://www.youtube.com/watch?v=unW5KdvSMZw',\n",
       " 'https://gomo.ie/pricing/',\n",
       " 'https://hbr.org/2000/03/how-to-fight-a-price-war',\n",
       " 'https://zapier.com/pricing',\n",
       " 'https://oilprice.com/oil-price-charts',\n",
       " 'https://oilprice.com/',\n",
       " 'https://www.kbb.com/car-prices/',\n",
       " 'https://www.cheapestoil.ie/heating-oil-prices/Republic',\n",
       " 'https://www.expatistan.com/cost-of-living/country/ireland',\n",
       " 'https://coinmarketcap.com/',\n",
       " 'https://wpastra.com/pricing/',\n",
       " 'https://www.inc.com/guides/price-your-products.html',\n",
       " 'https://www.cmegroup.com/trading/energy/crude-oil/light-sweet-crude.html',\n",
       " 'https://www.kitco.com/charts/livepalladium.html',\n",
       " 'https://www.moneymetals.com/precious-metals-charts/silver-price',\n",
       " 'https://www.theguardian.com/money/2020/apr/21/uk-petrol-prices-to-stay-steady-despite-global-oil-price-slump',\n",
       " 'https://www.cjfallon.ie/how-to-order-price-lists/',\n",
       " 'https://thedartryhealthclub.ie/membership/',\n",
       " 'https://www.introducingdublin.com/prices',\n",
       " 'https://about.gitlab.com/pricing/',\n",
       " 'https://www.lme.com/en-GB/Metals/Non-ferrous/Copper',\n",
       " 'https://mailchimp.com/pricing/',\n",
       " 'https://www.bbc.co.uk/news/topics/cmjpj223708t/oil',\n",
       " 'https://www.dropbox.com/business/pricing',\n",
       " 'https://www.nasdaq.com/market-activity/commodities',\n",
       " 'https://www.wix.com/upgrade/website',\n",
       " 'https://www.smiles.ie/smiles-dental-price-list/',\n",
       " 'https://calculator.aws/',\n",
       " 'https://www.globaldairytrade.info/en/product-results/',\n",
       " 'https://www.tomorrowland.com/en/festival/tickets/ticket-prices',\n",
       " 'https://www.bordgaisenergy.ie/home/our-plans',\n",
       " 'https://www.cookiebot.com/en/pricing/',\n",
       " 'https://www.mongodb.com/cloud/atlas/pricing']"
      ]
     },
     "execution_count": 6,
     "metadata": {},
     "output_type": "execute_result"
    },
    {
     "name": "stdout",
     "output_type": "stream",
     "text": [
      "time: 1.28 s\n"
     ]
    }
   ],
   "source": [
    "# search\n",
    "s = Search(m)\n",
    "s.search(\"prices\")"
   ]
  },
  {
   "cell_type": "code",
   "execution_count": 12,
   "metadata": {},
   "outputs": [
    {
     "name": "stderr",
     "output_type": "stream",
     "text": [
      "[cellevents:43:INFO]:starting (time=Apr-22 19:39 MainProcess)\n",
      "[mproxy.mproxy:86:INFO]:proxy http://34.244.135.7:8888 assigned (time=Apr-22 19:39 MainProcess)\n"
     ]
    },
    {
     "data": {
      "text/plain": [
       "\"Le chat s'est assis sur le tapis\""
      ]
     },
     "execution_count": 12,
     "metadata": {},
     "output_type": "execute_result"
    },
    {
     "name": "stdout",
     "output_type": "stream",
     "text": [
      "time: 498 ms\n"
     ]
    }
   ],
   "source": [
    "# translate\n",
    "t = Translate(m)\n",
    "t.translate(\"the cat sat on the mat\", dest=\"fr\")"
   ]
  },
  {
   "cell_type": "code",
   "execution_count": 7,
   "metadata": {
    "scrolled": true
   },
   "outputs": [
    {
     "name": "stderr",
     "output_type": "stream",
     "text": [
      "[cellevents:43:INFO]:starting (time=Apr-20 14:17)\n",
      "[mproxy.mproxy:145:INFO]:replacing http://63.32.169.58:8888 (time=Apr-20 14:17)\n",
      "[mproxy.mproxy:139:INFO]:proxy_carrie 63.32.169.58 stopped (time=Apr-20 14:17)\n"
     ]
    },
    {
     "name": "stdout",
     "output_type": "stream",
     "text": [
      "time: 736 ms\n"
     ]
    },
    {
     "name": "stderr",
     "output_type": "stream",
     "text": [
      "[aws2.spot:44:INFO]:requesting spot (time=Apr-20 14:17)\n",
      "[aws2.spot:56:INFO]:wait until running (time=Apr-20 14:17)\n",
      "[aws2.instance:157:INFO]:waiting for ssh 3.249.162.11 (time=Apr-20 14:17)\n",
      "[mproxy.mproxy:182:INFO]: 3.249.162.11 started (time=Apr-20 14:18)\n"
     ]
    }
   ],
   "source": [
    "# when there is a proxy failure then replace it\n",
    "m.replace(proxy)"
   ]
  },
  {
   "cell_type": "code",
   "execution_count": null,
   "metadata": {},
   "outputs": [
    {
     "name": "stderr",
     "output_type": "stream",
     "text": [
      "[cellevents:INFO]:starting (cellevents.py:43, time=Apr-07 16:08)\n",
      "[mproxy.mproxy:INFO]:34.252.31.148 stopped (mproxy.py:106, time=Apr-07 16:08)\n"
     ]
    }
   ],
   "source": [
    "# stop all proxy servers\n",
    "m.stop()"
   ]
  }
 ],
 "metadata": {
  "jupytext": {
   "text_representation": {
    "extension": ".py",
    "format_name": "percent",
    "format_version": "1.2",
    "jupytext_version": "1.2.1"
   }
  },
  "kernelspec": {
   "display_name": "Python 3",
   "language": "python",
   "name": "python3"
  },
  "language_info": {
   "codemirror_mode": {
    "name": "ipython",
    "version": 3
   },
   "file_extension": ".py",
   "mimetype": "text/x-python",
   "name": "python",
   "nbconvert_exporter": "python",
   "pygments_lexer": "ipython3",
   "version": "3.7.6"
  }
 },
 "nbformat": 4,
 "nbformat_minor": 4
}
