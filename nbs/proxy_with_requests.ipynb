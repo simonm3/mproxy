{
 "cells": [
  {
   "cell_type": "markdown",
   "metadata": {},
   "source": [
    "# Proxy with requests\n",
    "\n",
    "Typically it is easier to use proxy with automatic replacement. However it can also be used directly with requests"
   ]
  },
  {
   "cell_type": "code",
   "execution_count": 1,
   "metadata": {},
   "outputs": [
    {
     "data": {
      "text/html": [
       "<style>audio{display:none}</style>"
      ],
      "text/plain": [
       "<IPython.core.display.HTML object>"
      ]
     },
     "metadata": {},
     "output_type": "display_data"
    },
    {
     "name": "stderr",
     "output_type": "stream",
     "text": [
      "[botocore.credentials:1196:INFO]:Found credentials in shared credentials file: ~/.aws/credentials (time=Apr-14 17:08)\n"
     ]
    }
   ],
   "source": [
    "from ipstartup import *\n",
    "from mproxy import Mproxy, Proxysearch, Stypes\n",
    "import requests\n",
    "from fake_useragent import UserAgent\n",
    "from time import sleep"
   ]
  },
  {
   "cell_type": "code",
   "execution_count": 2,
   "metadata": {
    "scrolled": true
   },
   "outputs": [
    {
     "name": "stderr",
     "output_type": "stream",
     "text": [
      "[cellevents:43:INFO]:starting (time=Apr-14 17:08)\n",
      "[mproxy.mproxy:138:INFO]:2 proxies are available (time=Apr-14 17:08)\n"
     ]
    },
    {
     "name": "stdout",
     "output_type": "stream",
     "text": [
      "time: 4.43 s\n"
     ]
    }
   ],
   "source": [
    "# start two proxy servers\n",
    "m = Mproxy()\n",
    "m.set(2)\n",
    "m.wait(2)"
   ]
  },
  {
   "cell_type": "code",
   "execution_count": 3,
   "metadata": {
    "scrolled": true
   },
   "outputs": [
    {
     "name": "stderr",
     "output_type": "stream",
     "text": [
      "[cellevents:43:INFO]:starting (time=Apr-14 17:08)\n"
     ]
    },
    {
     "data": {
      "text/html": [
       "<div>\n",
       "<style scoped>\n",
       "    .dataframe tbody tr th:only-of-type {\n",
       "        vertical-align: middle;\n",
       "    }\n",
       "\n",
       "    .dataframe tbody tr th {\n",
       "        vertical-align: top;\n",
       "    }\n",
       "\n",
       "    .dataframe thead th {\n",
       "        text-align: right;\n",
       "    }\n",
       "</style>\n",
       "<table border=\"1\" class=\"dataframe\">\n",
       "  <thead>\n",
       "    <tr style=\"text-align: right;\">\n",
       "      <th></th>\n",
       "      <th>name</th>\n",
       "      <th>instance_id</th>\n",
       "      <th>image</th>\n",
       "      <th>type</th>\n",
       "      <th>state</th>\n",
       "      <th>ip</th>\n",
       "      <th>tags</th>\n",
       "    </tr>\n",
       "  </thead>\n",
       "  <tbody>\n",
       "    <tr>\n",
       "      <th>0</th>\n",
       "      <td>proxy_angela</td>\n",
       "      <td>i-0e16bbc0b47fc8105</td>\n",
       "      <td>ami-03d8261f577d71b6a</td>\n",
       "      <td>t3.nano</td>\n",
       "      <td>running</td>\n",
       "      <td>52.17.176.117</td>\n",
       "      <td>{'user': 'ubuntu', 'Name': 'proxy_angela', 'pe...</td>\n",
       "    </tr>\n",
       "    <tr>\n",
       "      <th>1</th>\n",
       "      <td>proxy_catherine</td>\n",
       "      <td>i-07beff99e46acc381</td>\n",
       "      <td>ami-03d8261f577d71b6a</td>\n",
       "      <td>t3.nano</td>\n",
       "      <td>running</td>\n",
       "      <td>3.249.205.203</td>\n",
       "      <td>{'persistent': 'False', 'Name': 'proxy_catheri...</td>\n",
       "    </tr>\n",
       "  </tbody>\n",
       "</table>\n",
       "</div>"
      ],
      "text/plain": [
       "              name          instance_id                  image     type  \\\n",
       "0     proxy_angela  i-0e16bbc0b47fc8105  ami-03d8261f577d71b6a  t3.nano   \n",
       "1  proxy_catherine  i-07beff99e46acc381  ami-03d8261f577d71b6a  t3.nano   \n",
       "\n",
       "     state             ip                                               tags  \n",
       "0  running  52.17.176.117  {'user': 'ubuntu', 'Name': 'proxy_angela', 'pe...  \n",
       "1  running  3.249.205.203  {'persistent': 'False', 'Name': 'proxy_catheri...  "
      ]
     },
     "execution_count": 3,
     "metadata": {},
     "output_type": "execute_result"
    },
    {
     "name": "stdout",
     "output_type": "stream",
     "text": [
      "time: 23 ms\n"
     ]
    }
   ],
   "source": [
    "m.df"
   ]
  },
  {
   "cell_type": "code",
   "execution_count": 4,
   "metadata": {},
   "outputs": [
    {
     "name": "stderr",
     "output_type": "stream",
     "text": [
      "[cellevents:43:INFO]:starting (time=Apr-14 17:08)\n"
     ]
    },
    {
     "data": {
      "text/plain": [
       "'http://52.17.176.117:8080'"
      ]
     },
     "execution_count": 4,
     "metadata": {},
     "output_type": "execute_result"
    },
    {
     "name": "stdout",
     "output_type": "stream",
     "text": [
      "time: 3.01 ms\n"
     ]
    }
   ],
   "source": [
    "# get a proxy_url url\n",
    "m.get_proxy_url()"
   ]
  },
  {
   "cell_type": "markdown",
   "metadata": {},
   "source": [
    "To use with requests just obtain a proxy url and set the proxies parameter. Running this cell repeatedly iterates the proxies."
   ]
  },
  {
   "cell_type": "code",
   "execution_count": 31,
   "metadata": {},
   "outputs": [
    {
     "name": "stderr",
     "output_type": "stream",
     "text": [
      "[cellevents:43:INFO]:starting (time=Apr-14 17:51)\n"
     ]
    },
    {
     "name": "stdout",
     "output_type": "stream",
     "text": [
      "http://52.17.176.117:8080\n"
     ]
    },
    {
     "data": {
      "text/plain": [
       "'52.17.176.117'"
      ]
     },
     "execution_count": 31,
     "metadata": {},
     "output_type": "execute_result"
    },
    {
     "name": "stdout",
     "output_type": "stream",
     "text": [
      "time: 5.22 s\n"
     ]
    }
   ],
   "source": [
    "# call requests.get as normal with the proxies parameter\n",
    "proxy_url = m.get_proxy_url()\n",
    "proxies=dict(http=proxy_url)\n",
    "url = \"http://api.ipify.org\"\n",
    "r = requests.get(url, headers=dict(User_Agent=UserAgent().chrome), proxies=proxies)\n",
    "print(proxy_url)\n",
    "r.text"
   ]
  },
  {
   "cell_type": "code",
   "execution_count": 76,
   "metadata": {
    "scrolled": true
   },
   "outputs": [
    {
     "name": "stderr",
     "output_type": "stream",
     "text": [
      "[cellevents:INFO]:starting (cellevents.py:43, time=Apr-07 08:54)\n",
      "[sm.search.mproxy:INFO]:3.249.82.236 stopped (mproxy.py:110, time=Apr-07 08:54)\n"
     ]
    },
    {
     "name": "stdout",
     "output_type": "stream",
     "text": [
      "time: 1.7 s\n"
     ]
    },
    {
     "name": "stderr",
     "output_type": "stream",
     "text": [
      "[aws2.spot:INFO]:requesting spot (spot.py:44, time=Apr-07 08:54)\n"
     ]
    }
   ],
   "source": [
    "# when there is a proxy failure then replace it\n",
    "m.replace(proxy_url)"
   ]
  },
  {
   "cell_type": "code",
   "execution_count": null,
   "metadata": {},
   "outputs": [
    {
     "name": "stderr",
     "output_type": "stream",
     "text": [
      "[cellevents:INFO]:starting (cellevents.py:43, time=Apr-07 16:08)\n",
      "[mproxy.mproxy:INFO]:34.252.31.148 stopped (mproxy.py:106, time=Apr-07 16:08)\n"
     ]
    }
   ],
   "source": [
    "# stop all proxy servers\n",
    "m.stop()"
   ]
  },
  {
   "cell_type": "code",
   "execution_count": null,
   "metadata": {},
   "outputs": [],
   "source": []
  }
 ],
 "metadata": {
  "jupytext": {
   "text_representation": {
    "extension": ".py",
    "format_name": "percent",
    "format_version": "1.2",
    "jupytext_version": "1.2.1"
   }
  },
  "kernelspec": {
   "display_name": "Python 3",
   "language": "python",
   "name": "python3"
  },
  "language_info": {
   "codemirror_mode": {
    "name": "ipython",
    "version": 3
   },
   "file_extension": ".py",
   "mimetype": "text/x-python",
   "name": "python",
   "nbconvert_exporter": "python",
   "pygments_lexer": "ipython3",
   "version": "3.7.5"
  }
 },
 "nbformat": 4,
 "nbformat_minor": 4
}
