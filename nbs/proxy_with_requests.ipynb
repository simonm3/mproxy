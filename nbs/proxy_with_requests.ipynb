{
 "cells": [
  {
   "cell_type": "markdown",
   "metadata": {},
   "source": [
    "# Proxy with requests\n",
    "\n",
    "Typically it is easier to use proxy with automatic replacement. However it can also be used directly with requests"
   ]
  },
  {
   "cell_type": "code",
   "execution_count": 1,
   "metadata": {},
   "outputs": [
    {
     "output_type": "stream",
     "name": "stderr",
     "text": "[root:32:INFO]:logging started from c:\\users\\simon\\onedrive\\documents\\py\\live\\utils\\defaultlog.py (time=Jun-11 17:29 MainProcess)\n"
    },
    {
     "output_type": "display_data",
     "data": {
      "text/plain": "<IPython.core.display.HTML object>",
      "text/html": "<style>audio{display:none}</style>"
     },
     "metadata": {}
    },
    {
     "output_type": "stream",
     "name": "stderr",
     "text": "[botocore.credentials:1196:INFO]:Found credentials in shared credentials file: ~/.aws/credentials (time=Jun-11 17:29 MainProcess)\n"
    }
   ],
   "source": [
    "from ipstartup import *\n",
    "from mproxy import Mproxy, Search, Stypes, Translate\n",
    "import requests\n",
    "from time import sleep"
   ]
  },
  {
   "cell_type": "code",
   "execution_count": 5,
   "metadata": {},
   "outputs": [
    {
     "output_type": "stream",
     "name": "stderr",
     "text": "[cellevents:43:INFO]:starting (time=Jun-11 17:31 MainProcess)\n"
    },
    {
     "output_type": "execute_result",
     "data": {
      "text/plain": "['https://www.rightmove.co.uk/house-prices/Stratford-Upon-Avon.html',\n 'https://www.rightmove.co.uk/property-for-sale/Stratford-Upon-Avon.html',\n 'https://www.zoopla.co.uk/house-prices/stratford-upon-avon/',\n 'https://www.zoopla.co.uk/house-prices/stratford-upon-avon/waterside/palmer-court/',\n 'https://www.mirror.co.uk/money/thousands-sky-customers-see-prices-22171471',\n 'https://www.movewithedwards.co.uk/2019/10/28/stratford-upon-avon-house-prices-go-up-4-6-in-a-year/',\n 'https://dictionary.cambridge.org/dictionary/english/price',\n 'https://nethouseprices.com/house-prices/stratford-upon-avon',\n 'https://www.shakespeare.org.uk/visit/plan-your-visit/annual-pass-prices/',\n 'https://www.shakespeare.org.uk/visit/plan-your-visit/']"
     },
     "metadata": {},
     "execution_count": 5
    },
    {
     "output_type": "stream",
     "name": "stdout",
     "text": "time: 1.29 s\n"
    }
   ],
   "source": [
    "# without proxy\n",
    "s = Search()\n",
    "urls = s.search(\"prices\")\n",
    "urls"
   ]
  },
  {
   "cell_type": "code",
   "execution_count": 55,
   "metadata": {
    "scrolled": true
   },
   "outputs": [
    {
     "output_type": "stream",
     "name": "stderr",
     "text": "[cellevents:43:INFO]:starting (time=Jun-11 16:46 MainProcess)\ntime: 4.25 s\n"
    }
   ],
   "source": [
    "# start proxy servers\n",
    "m = Mproxy()\n",
    "m.start(1)\n",
    "m.wait(1)"
   ]
  },
  {
   "cell_type": "code",
   "execution_count": 56,
   "metadata": {
    "scrolled": true
   },
   "outputs": [
    {
     "output_type": "stream",
     "name": "stderr",
     "text": "[cellevents:43:INFO]:starting (time=Jun-11 16:46 MainProcess)\n"
    },
    {
     "output_type": "execute_result",
     "data": {
      "text/plain": "             name          instance_id                  image     type  \\\n1   proxy_kirsten  i-08246826493ce75eb  ami-03d8261f577d71b6a  t3.nano   \n2  proxy_lorraine  i-02ecf255205f15899  ami-03d8261f577d71b6a  t3.nano   \n\n        state             ip persistent    user  ready  \n1  terminated                     False  ubuntu  False  \n2     running  18.202.247.38      False  ubuntu   True  ",
      "text/html": "<div>\n<style scoped>\n    .dataframe tbody tr th:only-of-type {\n        vertical-align: middle;\n    }\n\n    .dataframe tbody tr th {\n        vertical-align: top;\n    }\n\n    .dataframe thead th {\n        text-align: right;\n    }\n</style>\n<table border=\"1\" class=\"dataframe\">\n  <thead>\n    <tr style=\"text-align: right;\">\n      <th></th>\n      <th>name</th>\n      <th>instance_id</th>\n      <th>image</th>\n      <th>type</th>\n      <th>state</th>\n      <th>ip</th>\n      <th>persistent</th>\n      <th>user</th>\n      <th>ready</th>\n    </tr>\n  </thead>\n  <tbody>\n    <tr>\n      <th>1</th>\n      <td>proxy_kirsten</td>\n      <td>i-08246826493ce75eb</td>\n      <td>ami-03d8261f577d71b6a</td>\n      <td>t3.nano</td>\n      <td>terminated</td>\n      <td></td>\n      <td>False</td>\n      <td>ubuntu</td>\n      <td>False</td>\n    </tr>\n    <tr>\n      <th>2</th>\n      <td>proxy_lorraine</td>\n      <td>i-02ecf255205f15899</td>\n      <td>ami-03d8261f577d71b6a</td>\n      <td>t3.nano</td>\n      <td>running</td>\n      <td>18.202.247.38</td>\n      <td>False</td>\n      <td>ubuntu</td>\n      <td>True</td>\n    </tr>\n  </tbody>\n</table>\n</div>"
     },
     "metadata": {},
     "execution_count": 56
    },
    {
     "output_type": "stream",
     "name": "stdout",
     "text": "time: 4.08 s\n"
    }
   ],
   "source": [
    "m.df = m.get_instances()\n",
    "m.df"
   ]
  },
  {
   "cell_type": "code",
   "execution_count": 57,
   "metadata": {},
   "outputs": [
    {
     "output_type": "stream",
     "name": "stderr",
     "text": "[cellevents:43:INFO]:starting (time=Jun-11 16:46 MainProcess)\n"
    },
    {
     "output_type": "execute_result",
     "data": {
      "text/plain": "'http://18.202.247.38:8888'"
     },
     "metadata": {},
     "execution_count": 57
    },
    {
     "output_type": "stream",
     "name": "stdout",
     "text": "time: 4 ms\n"
    }
   ],
   "source": [
    "# get a proxy url\n",
    "m.get_url()"
   ]
  },
  {
   "cell_type": "markdown",
   "metadata": {},
   "source": [
    "To use with requests just obtain a proxy url and set the proxies parameter. Running this cell repeatedly iterates the proxies."
   ]
  },
  {
   "cell_type": "code",
   "execution_count": 58,
   "metadata": {},
   "outputs": [
    {
     "output_type": "stream",
     "name": "stderr",
     "text": "[cellevents:43:INFO]:starting (time=Jun-11 16:46 MainProcess)\nhttp://18.202.247.38:8888\n"
    },
    {
     "output_type": "execute_result",
     "data": {
      "text/plain": "'18.202.247.38'"
     },
     "metadata": {},
     "execution_count": 58
    },
    {
     "output_type": "stream",
     "name": "stdout",
     "text": "time: 308 ms\n"
    }
   ],
   "source": [
    "# call requests.get as normal with the proxies parameter\n",
    "proxy = m.get_url()\n",
    "proxies=dict(http=proxy)\n",
    "url = \"http://api.ipify.org\"\n",
    "r = requests.get(url, proxies=proxies)\n",
    "print(proxy)\n",
    "r.text"
   ]
  },
  {
   "cell_type": "code",
   "execution_count": 59,
   "metadata": {
    "collapsed": true
   },
   "outputs": [
    {
     "output_type": "stream",
     "name": "stderr",
     "text": "[cellevents:43:INFO]:starting (time=Jun-11 16:46 MainProcess)\n"
    },
    {
     "output_type": "execute_result",
     "data": {
      "text/plain": "['https://www.cso.ie/en/statistics/prices/',\n 'https://www.thejournal.ie/consumer-price-index-3-5120160-Jun2020/',\n 'https://www.rte.ie/news/2020/0609/1146264-rent-prices-daft/',\n 'https://www.numbeo.com/cost-of-living/country_result.jsp?country=Ireland',\n 'https://www.anpost.com/Post-Parcels/Sending/Postal-Rates/Standard-Post',\n 'https://www.propertypriceregister.ie/website/npsra/pprweb.nsf/PPR?OpenForm',\n 'https://www.myhome.ie/pricechanges',\n 'https://www.davy.ie/market-and-insights',\n 'https://www.bordbia.ie/farmers-growers/prices-markets/prices-markets/',\n 'https://www.bonkers.ie/compare-gas-electricity-prices/']"
     },
     "metadata": {},
     "execution_count": 59
    },
    {
     "output_type": "stream",
     "name": "stdout",
     "text": "time: 1.16 s\n"
    }
   ],
   "source": [
    "# search\n",
    "s = Search(m)\n",
    "s.search(\"prices\")"
   ]
  },
  {
   "cell_type": "code",
   "execution_count": 61,
   "metadata": {
    "scrolled": true
   },
   "outputs": [
    {
     "output_type": "stream",
     "name": "stderr",
     "text": "[cellevents:43:INFO]:starting (time=Jun-11 16:46 MainProcess)\n[mproxy.mproxy:110:INFO]:already replaced 63.33.58.175 (time=Jun-11 16:46 MainProcess)\ntime: 4.01 ms\n"
    }
   ],
   "source": [
    "# when there is a proxy failure then replace it\n",
    "m.replace(proxy)\t"
   ]
  },
  {
   "cell_type": "code",
   "execution_count": 62,
   "metadata": {},
   "outputs": [
    {
     "output_type": "stream",
     "name": "stderr",
     "text": "[cellevents:43:INFO]:starting (time=Jun-11 16:46 MainProcess)\ntime: 4.97 s\n"
    }
   ],
   "source": [
    "# stop all proxy servers\n",
    "m.stop()"
   ]
  },
  {
   "cell_type": "code",
   "execution_count": null,
   "metadata": {},
   "outputs": [],
   "source": []
  }
 ],
 "metadata": {
  "jupytext": {
   "text_representation": {
    "extension": ".py",
    "format_name": "percent",
    "format_version": "1.2",
    "jupytext_version": "1.2.1"
   }
  },
  "kernelspec": {
   "display_name": "Python 3",
   "language": "python",
   "name": "python3"
  },
  "language_info": {
   "codemirror_mode": {
    "name": "ipython",
    "version": 3
   },
   "file_extension": ".py",
   "mimetype": "text/x-python",
   "name": "python",
   "nbconvert_exporter": "python",
   "pygments_lexer": "ipython3",
   "version": "3.7.6-final"
  }
 },
 "nbformat": 4,
 "nbformat_minor": 4
}