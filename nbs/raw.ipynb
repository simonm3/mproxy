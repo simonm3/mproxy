{
 "cells": [
  {
   "cell_type": "code",
   "execution_count": 1,
   "metadata": {},
   "outputs": [
    {
     "data": {
      "text/html": [
       "<style>audio{display:none}</style>"
      ],
      "text/plain": [
       "<IPython.core.display.HTML object>"
      ]
     },
     "metadata": {},
     "output_type": "display_data"
    }
   ],
   "source": [
    "from ipstartup import *\n",
    "import logging\n",
    "\n",
    "import requests\n",
    "\n",
    "log = logging.getLogger(__name__)"
   ]
  },
  {
   "cell_type": "code",
   "execution_count": 57,
   "metadata": {},
   "outputs": [
    {
     "name": "stderr",
     "output_type": "stream",
     "text": [
      "[cellevents:43:INFO]:starting (time=Jul-08 17:36 MainProcess)\n",
      "[mproxy.source.google:77:INFO]:https://www.google.com/search?q=after%3A2020-07-01+before%3A2020-07-01+trump&hl=en&tbm=&start=1&num=99 (time=Jul-08 17:36 MainProcess)\n"
     ]
    },
    {
     "data": {
      "text/plain": [
       "(73,\n",
       " ['https://www.donaldjtrump.com/',\n",
       "  'https://www.whitehouse.gov/people/donald-j-trump/',\n",
       "  'https://www.theguardian.com/us-news/donaldtrump',\n",
       "  'https://twitter.com/realDonaldTrump',\n",
       "  'https://en.wikipedia.org/wiki/Donald_Trump',\n",
       "  'https://en.wikipedia.org/wiki/Mike_Pence',\n",
       "  'https://en.wikipedia.org/wiki/Republican_Party_(United_States)',\n",
       "  'https://en.wikipedia.org/wiki/Queens',\n",
       "  'https://en.wikipedia.org/wiki/Democratic_Party_(United_States)',\n",
       "  'https://en.wikipedia.org/wiki/Reform_Party_of_the_United_States_of_America'])"
      ]
     },
     "execution_count": 57,
     "metadata": {},
     "output_type": "execute_result"
    },
    {
     "name": "stdout",
     "output_type": "stream",
     "text": [
      "time: 3.52 s\n"
     ]
    }
   ],
   "source": [
    "# no proxies\n",
    "s = requests.Session()\n",
    "urls = google.search(s, \"trump\", before=\"20200701\", after=\"20200701\")\n",
    "len(urls), urls[:10]"
   ]
  }
 ],
 "metadata": {
  "jupytext": {
   "text_representation": {
    "extension": ".py",
    "format_name": "light",
    "format_version": "1.5",
    "jupytext_version": "1.5.0"
   }
  },
  "kernelspec": {
   "display_name": "Python 3",
   "language": "python",
   "name": "python3"
  },
  "language_info": {
   "codemirror_mode": {
    "name": "ipython",
    "version": 3
   },
   "file_extension": ".py",
   "mimetype": "text/x-python",
   "name": "python",
   "nbconvert_exporter": "python",
   "pygments_lexer": "ipython3",
   "version": "3.7.6"
  }
 },
 "nbformat": 4,
 "nbformat_minor": 4
}
