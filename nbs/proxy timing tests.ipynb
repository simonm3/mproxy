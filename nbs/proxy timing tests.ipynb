{
 "cells": [
  {
   "cell_type": "markdown",
   "metadata": {},
   "source": [
    "# Tests of different search methods\n",
    "Conclusions:\n",
    "\n",
    "* duckduckgo is 4 times as fast as google\n",
    "* using a session is twice as fast as not"
   ]
  },
  {
   "cell_type": "code",
   "execution_count": 2,
   "metadata": {},
   "outputs": [
    {
     "name": "stderr",
     "output_type": "stream",
     "text": [
      "[cellevents:INFO]:starting (cellevents.py:43, time=Apr-06 16:56)\n"
     ]
    },
    {
     "name": "stdout",
     "output_type": "stream",
     "text": [
      "time: 6.86 s\n"
     ]
    }
   ],
   "source": [
    "from ipstartup import *\n",
    "from sm.search import *\n",
    "import requests\n",
    "from fake_useragent import UserAgent\n",
    "m = Mproxy()"
   ]
  },
  {
   "cell_type": "code",
   "execution_count": 3,
   "metadata": {},
   "outputs": [
    {
     "name": "stderr",
     "output_type": "stream",
     "text": [
      "[cellevents:INFO]:starting (cellevents.py:43, time=Apr-06 16:56)\n"
     ]
    },
    {
     "name": "stdout",
     "output_type": "stream",
     "text": [
      "time: 7.66 s\n"
     ]
    },
    {
     "name": "stderr",
     "output_type": "stream",
     "text": [
      "[aws2.spot:INFO]:requesting spot (spot.py:44, time=Apr-06 16:56)\n",
      "[aws2.spot:INFO]:requesting spot (spot.py:44, time=Apr-06 16:56)\n",
      "[aws2.spot:INFO]:wait until running (spot.py:56, time=Apr-06 16:57)\n",
      "[aws2.spot:INFO]:wait until running (spot.py:56, time=Apr-06 16:57)\n",
      "[aws2.instance:INFO]:waiting for ssh 34.245.125.40 (instance.py:157, time=Apr-06 16:57)\n",
      "[aws2.instance:INFO]:waiting for ssh 63.35.225.25 (instance.py:157, time=Apr-06 16:57)\n",
      "[sm.search.mproxy:INFO]: 63.35.225.25 started (mproxy.py:167, time=Apr-06 16:58)\n",
      "[sm.search.mproxy:INFO]: 34.245.125.40 started (mproxy.py:167, time=Apr-06 16:58)\n"
     ]
    }
   ],
   "source": [
    "# start two proxy servers. takes a couple of minutes to start. cost is <0.1c/hour/proxy\n",
    "m = Mproxy()\n",
    "m.start(2)"
   ]
  },
  {
   "cell_type": "markdown",
   "metadata": {},
   "source": [
    "# Timings google"
   ]
  },
  {
   "cell_type": "code",
   "execution_count": 4,
   "metadata": {},
   "outputs": [
    {
     "name": "stderr",
     "output_type": "stream",
     "text": [
      "[cellevents:INFO]:starting (cellevents.py:43, time=Apr-06 16:58)\n"
     ]
    },
    {
     "name": "stdout",
     "output_type": "stream",
     "text": [
      "time: 0 ns\n"
     ]
    }
   ],
   "source": [
    "url = \"http://www.google.com/search\""
   ]
  },
  {
   "cell_type": "code",
   "execution_count": 5,
   "metadata": {
    "scrolled": false
   },
   "outputs": [
    {
     "name": "stderr",
     "output_type": "stream",
     "text": [
      "[cellevents:INFO]:starting (cellevents.py:43, time=Apr-06 16:58)\n"
     ]
    },
    {
     "name": "stdout",
     "output_type": "stream",
     "text": [
      "557 ms ± 72.6 ms per loop (mean ± std. dev. of 7 runs, 1 loop each)\n",
      "time: 4.62 s\n"
     ]
    }
   ],
   "source": [
    "# without proxy\n",
    "%timeit requests.get(url, params=dict(q=np.random.randint(100000)))"
   ]
  },
  {
   "cell_type": "code",
   "execution_count": 6,
   "metadata": {},
   "outputs": [
    {
     "name": "stderr",
     "output_type": "stream",
     "text": [
      "[cellevents:INFO]:starting (cellevents.py:43, time=Apr-06 16:58)\n"
     ]
    },
    {
     "name": "stdout",
     "output_type": "stream",
     "text": [
      "619 ms ± 137 ms per loop (mean ± std. dev. of 7 runs, 1 loop each)\n",
      "time: 4.94 s\n"
     ]
    }
   ],
   "source": [
    "# proxy\n",
    "proxies=dict(http=m.get_proxy_url())\n",
    "%timeit r = requests.get(url,\\\n",
    "                         params=dict(q=np.random.randint(100000)),\\\n",
    "                         headers=dict(User_Agent=UserAgent().chrome),\\\n",
    "                         proxies=proxies)"
   ]
  },
  {
   "cell_type": "code",
   "execution_count": 7,
   "metadata": {},
   "outputs": [
    {
     "name": "stderr",
     "output_type": "stream",
     "text": [
      "[cellevents:INFO]:starting (cellevents.py:43, time=Apr-06 16:58)\n"
     ]
    },
    {
     "name": "stdout",
     "output_type": "stream",
     "text": [
      "517 ms ± 70.9 ms per loop (mean ± std. dev. of 7 runs, 1 loop each)\n",
      "time: 4.17 s\n"
     ]
    }
   ],
   "source": [
    "# proxy with session\n",
    "s = requests.session()\n",
    "s.headers=dict(User_Agent=UserAgent().chrome)\n",
    "s.proxies=dict(http=m.get_proxy_url())\n",
    "%timeit r = s.get(url, params=dict(q=np.random.randint(100000)))"
   ]
  },
  {
   "cell_type": "markdown",
   "metadata": {},
   "source": [
    "# Timings duckduckgo"
   ]
  },
  {
   "cell_type": "code",
   "execution_count": 8,
   "metadata": {},
   "outputs": [
    {
     "name": "stderr",
     "output_type": "stream",
     "text": [
      "[cellevents:INFO]:starting (cellevents.py:43, time=Apr-06 16:58)\n"
     ]
    },
    {
     "name": "stdout",
     "output_type": "stream",
     "text": [
      "time: 0 ns\n"
     ]
    }
   ],
   "source": [
    "url = \"http://www.duckduckgo.com\""
   ]
  },
  {
   "cell_type": "code",
   "execution_count": 9,
   "metadata": {},
   "outputs": [
    {
     "name": "stderr",
     "output_type": "stream",
     "text": [
      "[cellevents:INFO]:starting (cellevents.py:43, time=Apr-06 16:58)\n"
     ]
    },
    {
     "name": "stdout",
     "output_type": "stream",
     "text": [
      "The slowest run took 8.22 times longer than the fastest. This could mean that an intermediate result is being cached.\n",
      "527 ms ± 497 ms per loop (mean ± std. dev. of 7 runs, 1 loop each)\n",
      "time: 3.95 s\n"
     ]
    }
   ],
   "source": [
    "# without proxy\n",
    "%timeit requests.get(url, params=dict(q=np.random.randint(100000)))"
   ]
  },
  {
   "cell_type": "code",
   "execution_count": 10,
   "metadata": {},
   "outputs": [
    {
     "name": "stderr",
     "output_type": "stream",
     "text": [
      "[cellevents:INFO]:starting (cellevents.py:43, time=Apr-06 16:58)\n"
     ]
    },
    {
     "name": "stdout",
     "output_type": "stream",
     "text": [
      "249 ms ± 58.3 ms per loop (mean ± std. dev. of 7 runs, 1 loop each)\n",
      "time: 2.07 s\n"
     ]
    }
   ],
   "source": [
    "# proxy\n",
    "proxies=dict(http=m.get_proxy_url())\n",
    "%timeit r = requests.get(url,\\\n",
    "                         params=dict(q=np.random.randint(100000)),\\\n",
    "                         headers=dict(User_Agent=UserAgent().chrome),\\\n",
    "                         proxies=proxies)"
   ]
  },
  {
   "cell_type": "code",
   "execution_count": 11,
   "metadata": {},
   "outputs": [
    {
     "name": "stderr",
     "output_type": "stream",
     "text": [
      "[cellevents:INFO]:starting (cellevents.py:43, time=Apr-06 16:58)\n"
     ]
    },
    {
     "name": "stdout",
     "output_type": "stream",
     "text": [
      "125 ms ± 37.8 ms per loop (mean ± std. dev. of 7 runs, 1 loop each)\n",
      "time: 1.11 s\n"
     ]
    }
   ],
   "source": [
    "# proxy with session\n",
    "s = requests.session()\n",
    "s.headers=dict(User_Agent=UserAgent().chrome)\n",
    "s.proxies=dict(http=m.get_proxy_url())\n",
    "%timeit r = s.get(url, params=dict(q=np.random.randint(100000)))"
   ]
  }
 ],
 "metadata": {
  "jupytext": {
   "text_representation": {
    "extension": ".py",
    "format_name": "percent",
    "format_version": "1.2",
    "jupytext_version": "1.2.1"
   }
  },
  "kernelspec": {
   "display_name": "Python 3",
   "language": "python",
   "name": "python3"
  },
  "language_info": {
   "codemirror_mode": {
    "name": "ipython",
    "version": 3
   },
   "file_extension": ".py",
   "mimetype": "text/x-python",
   "name": "python",
   "nbconvert_exporter": "python",
   "pygments_lexer": "ipython3",
   "version": "3.7.5"
  }
 },
 "nbformat": 4,
 "nbformat_minor": 4
}
