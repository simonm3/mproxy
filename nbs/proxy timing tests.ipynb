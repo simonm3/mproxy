{
 "cells": [
  {
   "cell_type": "markdown",
   "metadata": {},
   "source": [
    "# Tests of different search methods\n",
    "Conclusions:\n",
    "\n",
    "* * mostly using a session is faster than not using a session"
   ]
  },
  {
   "cell_type": "code",
   "execution_count": 1,
   "metadata": {},
   "outputs": [
    {
     "data": {
      "text/html": [
       "<style>audio{display:none}</style>"
      ],
      "text/plain": [
       "<IPython.core.display.HTML object>"
      ]
     },
     "metadata": {},
     "output_type": "display_data"
    },
    {
     "name": "stderr",
     "output_type": "stream",
     "text": [
      "[botocore.credentials:1051:INFO]:Found credentials in shared credentials file: ~/.aws/credentials (time=Apr-20 14:19)\n"
     ]
    }
   ],
   "source": [
    "from ipstartup import *\n",
    "from mproxy import Mproxy, Search\n",
    "import requests\n",
    "from fake_useragent import UserAgent\n",
    "m = Mproxy()"
   ]
  },
  {
   "cell_type": "code",
   "execution_count": 2,
   "metadata": {},
   "outputs": [
    {
     "name": "stderr",
     "output_type": "stream",
     "text": [
      "[cellevents:43:INFO]:starting (time=Apr-20 14:19)\n"
     ]
    },
    {
     "name": "stdout",
     "output_type": "stream",
     "text": [
      "time: 5.67 s\n"
     ]
    }
   ],
   "source": [
    "# start two proxy_url servers. takes a couple of minutes to start. cost is <0.1c/hour/proxy_url\n",
    "m = Mproxy()\n",
    "m.set(1)\n",
    "m.wait(1)"
   ]
  },
  {
   "cell_type": "markdown",
   "metadata": {},
   "source": [
    "# Timings google"
   ]
  },
  {
   "cell_type": "code",
   "execution_count": 3,
   "metadata": {},
   "outputs": [
    {
     "name": "stderr",
     "output_type": "stream",
     "text": [
      "[cellevents:43:INFO]:starting (time=Apr-20 14:20)\n"
     ]
    },
    {
     "name": "stdout",
     "output_type": "stream",
     "text": [
      "time: 0 ns\n"
     ]
    }
   ],
   "source": [
    "url = \"http://www.google.com/search\""
   ]
  },
  {
   "cell_type": "code",
   "execution_count": 4,
   "metadata": {},
   "outputs": [
    {
     "name": "stderr",
     "output_type": "stream",
     "text": [
      "[cellevents:43:INFO]:starting (time=Apr-20 14:20)\n"
     ]
    },
    {
     "name": "stdout",
     "output_type": "stream",
     "text": [
      "453 ms ± 55.5 ms per loop (mean ± std. dev. of 7 runs, 1 loop each)\n",
      "time: 3.67 s\n"
     ]
    }
   ],
   "source": [
    "# without proxy\n",
    "%timeit requests.get(url, params=dict(q=np.random.randint(100000)))"
   ]
  },
  {
   "cell_type": "code",
   "execution_count": 5,
   "metadata": {},
   "outputs": [
    {
     "name": "stderr",
     "output_type": "stream",
     "text": [
      "[cellevents:43:INFO]:starting (time=Apr-20 14:20)\n",
      "[mproxy.mproxy:86:INFO]:proxy http://3.249.162.11:8888 assigned to MainProcess (time=Apr-20 14:20)\n"
     ]
    },
    {
     "name": "stdout",
     "output_type": "stream",
     "text": [
      "518 ms ± 91.4 ms per loop (mean ± std. dev. of 7 runs, 1 loop each)\n",
      "time: 4.21 s\n"
     ]
    }
   ],
   "source": [
    "# proxy\n",
    "proxies=dict(http=m.get_proxy_url())\n",
    "%timeit r = requests.get(url,\\\n",
    "                         params=dict(q=np.random.randint(100000)),\\\n",
    "                         headers=dict(User_Agent=UserAgent().chrome),\\\n",
    "                         proxies=proxies)"
   ]
  },
  {
   "cell_type": "code",
   "execution_count": 7,
   "metadata": {},
   "outputs": [
    {
     "name": "stderr",
     "output_type": "stream",
     "text": [
      "[cellevents:43:INFO]:starting (time=Apr-20 14:20)\n",
      "[mproxy.mproxy:86:INFO]:proxy http://3.249.162.11:8888 assigned to MainProcess (time=Apr-20 14:20)\n"
     ]
    },
    {
     "name": "stdout",
     "output_type": "stream",
     "text": [
      "471 ms ± 18.8 ms per loop (mean ± std. dev. of 7 runs, 1 loop each)\n",
      "time: 3.8 s\n"
     ]
    }
   ],
   "source": [
    "# proxy with session\n",
    "s = requests.session()\n",
    "s.headers=dict(User_Agent=UserAgent().chrome)\n",
    "s.proxies=dict(http=m.get_proxy_url())\n",
    "%timeit r = s.get(url, params=dict(q=np.random.randint(100000)))"
   ]
  },
  {
   "cell_type": "markdown",
   "metadata": {},
   "source": [
    "# Timings duckduckgo"
   ]
  },
  {
   "cell_type": "code",
   "execution_count": null,
   "metadata": {},
   "outputs": [],
   "source": [
    "######## THIS DOES NOT ACTUALLY RETURN SEARCH RESULTS. PROBABLY REQUIRES JAVASCRIPT ########"
   ]
  },
  {
   "cell_type": "code",
   "execution_count": 8,
   "metadata": {},
   "outputs": [
    {
     "name": "stderr",
     "output_type": "stream",
     "text": [
      "[cellevents:43:INFO]:starting (time=Apr-20 14:20)\n"
     ]
    },
    {
     "name": "stdout",
     "output_type": "stream",
     "text": [
      "time: 506 µs\n"
     ]
    }
   ],
   "source": [
    "url = \"http://www.duckduckgo.com\""
   ]
  },
  {
   "cell_type": "code",
   "execution_count": 9,
   "metadata": {},
   "outputs": [
    {
     "name": "stderr",
     "output_type": "stream",
     "text": [
      "[cellevents:43:INFO]:starting (time=Apr-20 14:20)\n"
     ]
    },
    {
     "name": "stdout",
     "output_type": "stream",
     "text": [
      "433 ms ± 184 ms per loop (mean ± std. dev. of 7 runs, 1 loop each)\n",
      "time: 3.7 s\n"
     ]
    }
   ],
   "source": [
    "# without proxy\n",
    "%timeit requests.get(url, params=dict(q=np.random.randint(100000)))"
   ]
  },
  {
   "cell_type": "code",
   "execution_count": 10,
   "metadata": {},
   "outputs": [
    {
     "name": "stderr",
     "output_type": "stream",
     "text": [
      "[cellevents:43:INFO]:starting (time=Apr-20 14:20)\n",
      "[mproxy.mproxy:86:INFO]:proxy http://3.249.162.11:8888 assigned to MainProcess (time=Apr-20 14:20)\n"
     ]
    },
    {
     "name": "stdout",
     "output_type": "stream",
     "text": [
      "The slowest run took 4.07 times longer than the fastest. This could mean that an intermediate result is being cached.\n",
      "318 ms ± 195 ms per loop (mean ± std. dev. of 7 runs, 1 loop each)\n",
      "time: 3.14 s\n"
     ]
    }
   ],
   "source": [
    "# proxy\n",
    "proxies=dict(http=m.get_proxy_url())\n",
    "%timeit r = requests.get(url,\\\n",
    "                         params=dict(q=np.random.randint(100000)),\\\n",
    "                         headers=dict(User_Agent=UserAgent().chrome),\\\n",
    "                         proxies=proxies)"
   ]
  },
  {
   "cell_type": "code",
   "execution_count": 11,
   "metadata": {},
   "outputs": [
    {
     "name": "stderr",
     "output_type": "stream",
     "text": [
      "[cellevents:43:INFO]:starting (time=Apr-20 14:21)\n",
      "[mproxy.mproxy:86:INFO]:proxy http://3.249.162.11:8888 assigned to MainProcess (time=Apr-20 14:21)\n"
     ]
    },
    {
     "name": "stdout",
     "output_type": "stream",
     "text": [
      "142 ms ± 33.4 ms per loop (mean ± std. dev. of 7 runs, 1 loop each)\n",
      "time: 1.2 s\n"
     ]
    }
   ],
   "source": [
    "# proxy with session\n",
    "s = requests.session()\n",
    "s.headers=dict(User_Agent=UserAgent().chrome)\n",
    "s.proxies=dict(http=m.get_proxy_url())\n",
    "%timeit r = s.get(url, params=dict(q=np.random.randint(100000)))"
   ]
  },
  {
   "cell_type": "code",
   "execution_count": null,
   "metadata": {},
   "outputs": [],
   "source": []
  }
 ],
 "metadata": {
  "jupytext": {
   "text_representation": {
    "extension": ".py",
    "format_name": "percent",
    "format_version": "1.2",
    "jupytext_version": "1.2.1"
   }
  },
  "kernelspec": {
   "display_name": "Python 3",
   "language": "python",
   "name": "python3"
  },
  "language_info": {
   "codemirror_mode": {
    "name": "ipython",
    "version": 3
   },
   "file_extension": ".py",
   "mimetype": "text/x-python",
   "name": "python",
   "nbconvert_exporter": "python",
   "pygments_lexer": "ipython3",
   "version": "3.7.6"
  }
 },
 "nbformat": 4,
 "nbformat_minor": 4
}