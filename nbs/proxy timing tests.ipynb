{
 "cells": [
  {
   "cell_type": "markdown",
   "metadata": {},
   "source": [
    "# Tests of different search methods\n",
    "Conclusions:\n",
    "\n",
    "* mostly duckduckgo is much faster than google. however it depends on time of day.\n",
    "* mostly using a session is faster than not using a session"
   ]
  },
  {
   "cell_type": "code",
   "execution_count": 1,
   "metadata": {},
   "outputs": [
    {
     "data": {
      "text/html": [
       "<style>audio{display:none}</style>"
      ],
      "text/plain": [
       "<IPython.core.display.HTML object>"
      ]
     },
     "metadata": {},
     "output_type": "display_data"
    },
    {
     "name": "stderr",
     "output_type": "stream",
     "text": [
      "[botocore.credentials:INFO]:Found credentials in shared credentials file: ~/.aws/credentials (credentials.py:1196, time=Apr-07 16:09)\n"
     ]
    }
   ],
   "source": [
    "from ipstartup import *\n",
    "from mproxy import Mproxy, Proxysearch\n",
    "import requests\n",
    "from fake_useragent import UserAgent\n",
    "m = Mproxy()"
   ]
  },
  {
   "cell_type": "code",
   "execution_count": 2,
   "metadata": {},
   "outputs": [
    {
     "name": "stderr",
     "output_type": "stream",
     "text": [
      "[cellevents:INFO]:starting (cellevents.py:43, time=Apr-07 16:09)\n"
     ]
    },
    {
     "name": "stdout",
     "output_type": "stream",
     "text": [
      "time: 3.74 s\n"
     ]
    }
   ],
   "source": [
    "# start two proxy_url servers. takes a couple of minutes to start. cost is <0.1c/hour/proxy_url\n",
    "m = Mproxy()\n",
    "m.start(2)"
   ]
  },
  {
   "cell_type": "markdown",
   "metadata": {},
   "source": [
    "# Timings google"
   ]
  },
  {
   "cell_type": "code",
   "execution_count": 3,
   "metadata": {},
   "outputs": [
    {
     "name": "stderr",
     "output_type": "stream",
     "text": [
      "[cellevents:INFO]:starting (cellevents.py:43, time=Apr-07 16:09)\n"
     ]
    },
    {
     "name": "stdout",
     "output_type": "stream",
     "text": [
      "time: 1 ms\n"
     ]
    },
    {
     "name": "stderr",
     "output_type": "stream",
     "text": [
      "[aws2.spot:INFO]:requesting spot (spot.py:44, time=Apr-07 16:09)\n",
      "[aws2.spot:INFO]:requesting spot (spot.py:44, time=Apr-07 16:09)\n"
     ]
    }
   ],
   "source": [
    "url = \"http://www.google.com/search\""
   ]
  },
  {
   "cell_type": "code",
   "execution_count": 15,
   "metadata": {},
   "outputs": [
    {
     "name": "stderr",
     "output_type": "stream",
     "text": [
      "[cellevents:INFO]:starting (cellevents.py:43, time=Apr-07 16:12)\n"
     ]
    },
    {
     "name": "stdout",
     "output_type": "stream",
     "text": [
      "212 ms ± 52.3 ms per loop (mean ± std. dev. of 7 runs, 1 loop each)\n",
      "time: 1.74 s\n"
     ]
    }
   ],
   "source": [
    "# without proxy\n",
    "%timeit requests.get(url, params=dict(q=np.random.randint(100000)))"
   ]
  },
  {
   "cell_type": "code",
   "execution_count": 16,
   "metadata": {},
   "outputs": [
    {
     "name": "stderr",
     "output_type": "stream",
     "text": [
      "[cellevents:INFO]:starting (cellevents.py:43, time=Apr-07 16:12)\n"
     ]
    },
    {
     "name": "stdout",
     "output_type": "stream",
     "text": [
      "237 ms ± 33.5 ms per loop (mean ± std. dev. of 7 runs, 10 loops each)\n",
      "time: 19.1 s\n"
     ]
    }
   ],
   "source": [
    "# proxy\n",
    "proxies=dict(http=m.get_proxy_url())\n",
    "%timeit r = requests.get(url,\\\n",
    "                         params=dict(q=np.random.randint(100000)),\\\n",
    "                         headers=dict(User_Agent=UserAgent().chrome),\\\n",
    "                         proxies=proxies)"
   ]
  },
  {
   "cell_type": "code",
   "execution_count": 17,
   "metadata": {},
   "outputs": [
    {
     "name": "stderr",
     "output_type": "stream",
     "text": [
      "[cellevents:INFO]:starting (cellevents.py:43, time=Apr-07 16:12)\n"
     ]
    },
    {
     "name": "stdout",
     "output_type": "stream",
     "text": [
      "135 ms ± 36.9 ms per loop (mean ± std. dev. of 7 runs, 10 loops each)\n",
      "time: 10.8 s\n"
     ]
    }
   ],
   "source": [
    "# proxy with session\n",
    "s = requests.session()\n",
    "s.headers=dict(User_Agent=UserAgent().chrome)\n",
    "s.proxies=dict(http=m.get_proxy_url())\n",
    "%timeit r = s.get(url, params=dict(q=np.random.randint(100000)))"
   ]
  },
  {
   "cell_type": "markdown",
   "metadata": {},
   "source": [
    "# Timings duckduckgo"
   ]
  },
  {
   "cell_type": "code",
   "execution_count": 11,
   "metadata": {},
   "outputs": [
    {
     "name": "stderr",
     "output_type": "stream",
     "text": [
      "[cellevents:INFO]:starting (cellevents.py:43, time=Apr-07 16:11)\n"
     ]
    },
    {
     "name": "stdout",
     "output_type": "stream",
     "text": [
      "time: 963 µs\n"
     ]
    }
   ],
   "source": [
    "url = \"http://www.duckduckgo.com\""
   ]
  },
  {
   "cell_type": "code",
   "execution_count": 12,
   "metadata": {},
   "outputs": [
    {
     "name": "stderr",
     "output_type": "stream",
     "text": [
      "[cellevents:INFO]:starting (cellevents.py:43, time=Apr-07 16:11)\n"
     ]
    },
    {
     "name": "stdout",
     "output_type": "stream",
     "text": [
      "207 ms ± 23.4 ms per loop (mean ± std. dev. of 7 runs, 1 loop each)\n",
      "time: 1.69 s\n"
     ]
    }
   ],
   "source": [
    "# without proxy\n",
    "%timeit requests.get(url, params=dict(q=np.random.randint(100000)))"
   ]
  },
  {
   "cell_type": "code",
   "execution_count": 13,
   "metadata": {},
   "outputs": [
    {
     "name": "stderr",
     "output_type": "stream",
     "text": [
      "[cellevents:INFO]:starting (cellevents.py:43, time=Apr-07 16:11)\n"
     ]
    },
    {
     "name": "stdout",
     "output_type": "stream",
     "text": [
      "281 ms ± 140 ms per loop (mean ± std. dev. of 7 runs, 1 loop each)\n",
      "time: 2.2 s\n"
     ]
    }
   ],
   "source": [
    "# proxy\n",
    "proxies=dict(http=m.get_proxy_url())\n",
    "%timeit r = requests.get(url,\\\n",
    "                         params=dict(q=np.random.randint(100000)),\\\n",
    "                         headers=dict(User_Agent=UserAgent().chrome),\\\n",
    "                         proxies=proxies)"
   ]
  },
  {
   "cell_type": "code",
   "execution_count": 14,
   "metadata": {},
   "outputs": [
    {
     "name": "stderr",
     "output_type": "stream",
     "text": [
      "[cellevents:INFO]:starting (cellevents.py:43, time=Apr-07 16:11)\n"
     ]
    },
    {
     "name": "stdout",
     "output_type": "stream",
     "text": [
      "113 ms ± 7.96 ms per loop (mean ± std. dev. of 7 runs, 1 loop each)\n",
      "time: 1.14 s\n"
     ]
    }
   ],
   "source": [
    "# proxy with session\n",
    "s = requests.session()\n",
    "s.headers=dict(User_Agent=UserAgent().chrome)\n",
    "s.proxies=dict(http=m.get_proxy_url())\n",
    "%timeit r = s.get(url, params=dict(q=np.random.randint(100000)))"
   ]
  },
  {
   "cell_type": "code",
   "execution_count": null,
   "metadata": {},
   "outputs": [],
   "source": []
  }
 ],
 "metadata": {
  "jupytext": {
   "text_representation": {
    "extension": ".py",
    "format_name": "percent",
    "format_version": "1.2",
    "jupytext_version": "1.2.1"
   }
  },
  "kernelspec": {
   "display_name": "Python 3",
   "language": "python",
   "name": "python3"
  },
  "language_info": {
   "codemirror_mode": {
    "name": "ipython",
    "version": 3
   },
   "file_extension": ".py",
   "mimetype": "text/x-python",
   "name": "python",
   "nbconvert_exporter": "python",
   "pygments_lexer": "ipython3",
   "version": "3.7.5"
  }
 },
 "nbformat": 4,
 "nbformat_minor": 4
}
