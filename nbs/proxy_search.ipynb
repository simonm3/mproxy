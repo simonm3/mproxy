{
 "cells": [
  {
   "cell_type": "markdown",
   "metadata": {},
   "source": [
    "# Search with automatic proxy replacement"
   ]
  },
  {
   "cell_type": "code",
   "execution_count": 6,
   "metadata": {},
   "outputs": [
    {
     "name": "stderr",
     "output_type": "stream",
     "text": [
      "[cellevents:INFO]:starting (cellevents.py:43, time=Apr-07 16:07)\n"
     ]
    },
    {
     "name": "stdout",
     "output_type": "stream",
     "text": [
      "time: 972 µs\n"
     ]
    }
   ],
   "source": [
    "from ipstartup import *\n",
    "from mproxy import  Mproxy, Proxysearch"
   ]
  },
  {
   "cell_type": "code",
   "execution_count": 2,
   "metadata": {},
   "outputs": [
    {
     "name": "stderr",
     "output_type": "stream",
     "text": [
      "[cellevents:INFO]:starting (cellevents.py:43, time=Apr-07 16:06)\n",
      "[mproxy.mproxy:INFO]:2 proxies are available (mproxy.py:134, time=Apr-07 16:06)\n"
     ]
    },
    {
     "name": "stdout",
     "output_type": "stream",
     "text": [
      "time: 4.55 s\n"
     ]
    }
   ],
   "source": [
    "# set the number of proxy servers and wait until ready (they setup in the background)\n",
    "m = Mproxy()\n",
    "m.set(2)\n",
    "m.wait(2)"
   ]
  },
  {
   "cell_type": "code",
   "execution_count": 3,
   "metadata": {},
   "outputs": [
    {
     "name": "stderr",
     "output_type": "stream",
     "text": [
      "[cellevents:INFO]:starting (cellevents.py:43, time=Apr-07 16:06)\n"
     ]
    },
    {
     "data": {
      "text/html": [
       "<div>\n",
       "<style scoped>\n",
       "    .dataframe tbody tr th:only-of-type {\n",
       "        vertical-align: middle;\n",
       "    }\n",
       "\n",
       "    .dataframe tbody tr th {\n",
       "        vertical-align: top;\n",
       "    }\n",
       "\n",
       "    .dataframe thead th {\n",
       "        text-align: right;\n",
       "    }\n",
       "</style>\n",
       "<table border=\"1\" class=\"dataframe\">\n",
       "  <thead>\n",
       "    <tr style=\"text-align: right;\">\n",
       "      <th></th>\n",
       "      <th>name</th>\n",
       "      <th>instance_id</th>\n",
       "      <th>image</th>\n",
       "      <th>type</th>\n",
       "      <th>state</th>\n",
       "      <th>ip</th>\n",
       "      <th>tags</th>\n",
       "    </tr>\n",
       "  </thead>\n",
       "  <tbody>\n",
       "    <tr>\n",
       "      <th>0</th>\n",
       "      <td>proxy_scarlett</td>\n",
       "      <td>i-0769d9e2468482a01</td>\n",
       "      <td>ami-03d8261f577d71b6a</td>\n",
       "      <td>t3.nano</td>\n",
       "      <td>running</td>\n",
       "      <td>34.252.31.148</td>\n",
       "      <td>{'user': 'ubuntu', 'persistent': 'False', 'Nam...</td>\n",
       "    </tr>\n",
       "    <tr>\n",
       "      <th>1</th>\n",
       "      <td>proxy_grace</td>\n",
       "      <td>i-0ce10e670fe27ef26</td>\n",
       "      <td>ami-03d8261f577d71b6a</td>\n",
       "      <td>t3.nano</td>\n",
       "      <td>running</td>\n",
       "      <td>54.229.181.55</td>\n",
       "      <td>{'persistent': 'False', 'Name': 'proxy_grace',...</td>\n",
       "    </tr>\n",
       "  </tbody>\n",
       "</table>\n",
       "</div>"
      ],
      "text/plain": [
       "             name          instance_id                  image     type  \\\n",
       "0  proxy_scarlett  i-0769d9e2468482a01  ami-03d8261f577d71b6a  t3.nano   \n",
       "1     proxy_grace  i-0ce10e670fe27ef26  ami-03d8261f577d71b6a  t3.nano   \n",
       "\n",
       "     state             ip                                               tags  \n",
       "0  running  34.252.31.148  {'user': 'ubuntu', 'persistent': 'False', 'Nam...  \n",
       "1  running  54.229.181.55  {'persistent': 'False', 'Name': 'proxy_grace',...  "
      ]
     },
     "execution_count": 3,
     "metadata": {},
     "output_type": "execute_result"
    },
    {
     "name": "stdout",
     "output_type": "stream",
     "text": [
      "time: 12 ms\n"
     ]
    }
   ],
   "source": [
    "# show running proxies\n",
    "m.df"
   ]
  },
  {
   "cell_type": "code",
   "execution_count": 4,
   "metadata": {},
   "outputs": [
    {
     "name": "stderr",
     "output_type": "stream",
     "text": [
      "[cellevents:INFO]:starting (cellevents.py:43, time=Apr-07 16:07)\n",
      "[mproxy.mproxy:INFO]:2 proxies are available (mproxy.py:134, time=Apr-07 16:07)\n"
     ]
    },
    {
     "name": "stdout",
     "output_type": "stream",
     "text": [
      "time: 4 ms\n"
     ]
    }
   ],
   "source": [
    "# create proxysearch. this is a session that uses one proxy but replaces on failure.\n",
    "s = Proxysearch(m)"
   ]
  },
  {
   "cell_type": "code",
   "execution_count": 8,
   "metadata": {},
   "outputs": [
    {
     "name": "stderr",
     "output_type": "stream",
     "text": [
      "[cellevents:INFO]:starting (cellevents.py:43, time=Apr-07 16:07)\n"
     ]
    },
    {
     "data": {
      "text/plain": [
       "(299,\n",
       " ['https://www.guardian.co.uk/sport/series/joyofsix',\n",
       "  'http://www.guardian.co.uk/media/bt-sport',\n",
       "  'http://www.guardian.co.uk/media/sky-sports',\n",
       "  'http://www.guardian.co.uk/sport/frenchopen',\n",
       "  'http://www.guardian.co.uk/sport/nhl',\n",
       "  'http://www.guardian.co.uk/sport/michael-schumacher',\n",
       "  'http://www.guardian.co.uk/sport/countychampionship1stdivisioncricket',\n",
       "  'http://www.guardian.co.uk/sport/amirkhan',\n",
       "  'http://www.guardian.co.uk/sport/usopengolf',\n",
       "  'http://www.guardian.co.uk/sport/manny-pacquiao',\n",
       "  'http://www.guardian.co.uk/sport/bbc-sports-personality-of-the-year',\n",
       "  'https://www.guardian.co.uk/sport/ashes+over-by-over-reports',\n",
       "  'http://www.guardian.co.uk/sport/rugby-world-cup-2015',\n",
       "  'http://www.guardian.co.uk/sport/giro-d-italia',\n",
       "  'http://www.guardian.co.uk/sport/british-olympic-association',\n",
       "  'http://www.guardian.co.uk/sport/olympic-stadium',\n",
       "  'http://www.guardian.co.uk/sport/commonwealthgames2014',\n",
       "  'http://www.guardian.co.uk/sport/motogp',\n",
       "  'http://www.guardian.co.uk/sport/ian-thorpe',\n",
       "  'http://www.guardian.co.uk/sport/japanrugby',\n",
       "  'http://www.guardian.co.uk/sport/magnus-carlsen',\n",
       "  'http://www.guardian.co.uk/sport/countychampionship2nddivisioncricket',\n",
       "  'http://www.guardian.co.uk/sport/argentina-rugby-union-team',\n",
       "  'http://www.guardian.co.uk/football/womens-world-cup-2019',\n",
       "  'http://www.guardian.co.uk/sport/dave-brailsford',\n",
       "  'http://www.guardian.co.uk/sport/usopentennis',\n",
       "  'http://www.guardian.co.uk/sport/new-zealand-rugby-league',\n",
       "  'http://www.guardian.co.uk/sport/ryan-moore',\n",
       "  'http://www.guardian.co.uk/sport/scarlets',\n",
       "  'http://www.guardian.co.uk/sport/kelly-holmes',\n",
       "  'http://www.guardian.co.uk/sport/afghanistan-cricket-team',\n",
       "  'http://www.guardian.co.uk/sport/melbourne-cup',\n",
       "  'http://www.guardian.co.uk/profile/richardwilliams',\n",
       "  'http://www.guardian.co.uk/sport/ospreys',\n",
       "  'http://www.guardian.co.uk/sport/markcavendish',\n",
       "  'http://www.guardian.co.uk/sport/series/county-cricket-live-blog',\n",
       "  'http://www.guardian.co.uk/sport/the-tote',\n",
       "  'http://www.guardian.co.uk/sport/nicola-adams',\n",
       "  'http://www.guardian.co.uk/sport/st-leger-stakes',\n",
       "  'http://www.guardian.co.uk/sport/john-higgins',\n",
       "  'http://www.guardian.co.uk/sport/atp-world-tour-finals',\n",
       "  'http://www.guardian.co.uk/sport/tour-of-britain',\n",
       "  'http://www.guardian.co.uk/sport/jonny-wilkinson',\n",
       "  'http://www.guardian.co.uk/sport/samoa-rugby-union-team',\n",
       "  'http://www.guardian.co.uk/sport/fiji-rugby-union-team',\n",
       "  'http://www.guardian.co.uk/sport/australia-rugby-union-team',\n",
       "  'http://www.guardian.co.uk/sport/jamesdegale',\n",
       "  'http://www.guardian.co.uk/sport/ncaa-tournament',\n",
       "  'http://www.guardian.co.uk/sport/uspga',\n",
       "  'http://www.guardian.co.uk/sport/1000-guineas',\n",
       "  'http://www.guardian.co.uk/travel/europe+water-sports-holidays',\n",
       "  'http://www.guardian.co.uk/sport/tonga-rugby-union-team',\n",
       "  'http://www.guardian.co.uk/sport/epsom-derby-stakes',\n",
       "  'http://www.guardian.co.uk/sport/ireland-cricket-team',\n",
       "  'http://www.guardian.co.uk/sport/glorious-goodwood',\n",
       "  'http://www.guardian.co.uk/sport/prix-de-larc-de-triomphe',\n",
       "  'http://www.guardian.co.uk/sport/georgia-rugby-union-team',\n",
       "  'http://www.guardian.co.uk/sport/king-george-vi-queen-elizabeth-stakes',\n",
       "  'http://www.guardian.co.uk/travel/water-sports-holidays',\n",
       "  'http://www.guardian.co.uk/football/wales',\n",
       "  'http://www.guardian.co.uk/sport/world-snooker-championship',\n",
       "  'http://www.guardian.co.uk/sport/los-angeles-clippers',\n",
       "  'http://www.guardian.co.uk/football/chile',\n",
       "  'http://www.guardian.co.uk/sport/king-george-vi-chase',\n",
       "  'http://www.guardian.co.uk/football/saopaulo',\n",
       "  'http://www.guardian.co.uk/football/cameroon',\n",
       "  'http://www.guardian.co.uk/football/japan',\n",
       "  'http://www.guardian.co.uk/football/italy',\n",
       "  'http://www.guardian.co.uk/football/northernireland',\n",
       "  'http://www.guardian.co.uk/sport/series/six-nations-player-ratings+wales-rugby-union-team',\n",
       "  'http://www.guardian.co.uk/football/switzerland',\n",
       "  'http://www.guardian.co.uk/football/bryan-robson',\n",
       "  'http://www.guardian.co.uk/football/partizanbelgrade',\n",
       "  'http://www.guardian.co.uk/football/turkey',\n",
       "  'http://www.guardian.co.uk/football/graeme-souness',\n",
       "  'http://www.guardian.co.uk/profile/gary-naylor',\n",
       "  'http://www.guardian.co.uk/football/russia',\n",
       "  'http://www.guardian.co.uk/tv-and-radio/entertainment',\n",
       "  'http://www.guardian.co.uk/football/shakhtardonetsk',\n",
       "  'http://www.guardian.co.uk/football/southafrica',\n",
       "  'http://www.guardian.co.uk/football/montenegro',\n",
       "  'http://www.guardian.co.uk/football/bocajuniors',\n",
       "  'http://www.guardian.co.uk/football/didier-drogba',\n",
       "  'http://www.guardian.co.uk/football/portugal',\n",
       "  'http://www.guardian.co.uk/football/egypt',\n",
       "  'http://www.guardian.co.uk/football/dinamozagreb',\n",
       "  'http://www.guardian.co.uk/world/gaza+content/gallery',\n",
       "  'http://www.guardian.co.uk/politics/lobbying',\n",
       "  'http://www.guardian.co.uk/football/european-under-21-championship',\n",
       "  'https://www.guardian.co.uk/media/mtv',\n",
       "  'http://www.guardian.co.uk/football/sam-allardyce',\n",
       "  'http://www.guardian.co.uk/politics/peterhain',\n",
       "  'http://www.guardian.co.uk/books/bestbooks',\n",
       "  'http://www.guardian.co.uk/football/sol-campbell',\n",
       "  'http://www.guardian.co.uk/film/movie/55021/hoop.dreams',\n",
       "  'http://www.guardian.co.uk/money/student-finance',\n",
       "  'http://www.guardian.co.uk/football/riverplate',\n",
       "  'http://www.guardian.co.uk/education/2009/may/10/universityguide-uni-wolverhampton',\n",
       "  'http://www.guardian.co.uk/football/sepp-blatter',\n",
       "  'http://www.guardian.co.uk/football/belgium',\n",
       "  'http://www.guardian.co.uk/profile/gus-o-donnell',\n",
       "  'http://www.guardian.co.uk/football/croatia',\n",
       "  'http://www.guardian.co.uk/football/fenerbahce',\n",
       "  'http://www.guardian.co.uk/football/stockport',\n",
       "  'http://www.guardian.co.uk/football/galatasaray',\n",
       "  'http://www.guardian.co.uk/football/fernando-torres',\n",
       "  'http://www.guardian.co.uk/politics/carwyn-jones',\n",
       "  'http://www.guardian.co.uk/football/feyenoord',\n",
       "  'http://www.guardian.co.uk/football/young-boys-berne',\n",
       "  'http://www.guardian.co.uk/uk/queens-birthday-honours-list',\n",
       "  'http://www.guardian.co.uk/media/danny-baker',\n",
       "  'http://www.guardian.co.uk/world/azerbaijan',\n",
       "  'http://www.guardian.co.uk/info/2011/jul/22/six-way-support',\n",
       "  'http://www.guardian.co.uk/technology/wii',\n",
       "  'http://www.guardian.co.uk/football/dcunited',\n",
       "  'http://www.guardian.co.uk/artanddesign/norman-foster',\n",
       "  'http://www.guardian.co.uk/football/denmark',\n",
       "  'http://www.guardian.co.uk/tv-and-radio/bill-oddie',\n",
       "  'http://www.guardian.co.uk/football/the-glazer-family',\n",
       "  'http://www.guardian.co.uk/politics/benjamin-disraeli',\n",
       "  'http://www.guardian.co.uk/football/germany',\n",
       "  'http://www.guardian.co.uk/travel/sheffield',\n",
       "  'http://www.guardian.co.uk/education/glasgowschoolofart',\n",
       "  'http://www.guardian.co.uk/football/krc-genk',\n",
       "  'http://www.guardian.co.uk/business/trinitymirror',\n",
       "  'https://www.guardian.co.uk/media/financialtimes',\n",
       "  'http://www.guardian.co.uk/football/community-shield',\n",
       "  'http://www.guardian.co.uk/media/forbes-magazine',\n",
       "  'http://www.guardian.co.uk/football/gianfranco-zola',\n",
       "  'http://www.guardian.co.uk/film/annette-bening',\n",
       "  'http://www.guardian.co.uk/world/turkmenistan',\n",
       "  'http://www.guardian.co.uk/football/ballon-d-or',\n",
       "  'http://www.guardian.co.uk/football/azalkmaar',\n",
       "  'http://www.guardian.co.uk/film/paulnewman',\n",
       "  'http://www.guardian.co.uk/football/sweden',\n",
       "  'http://www.guardian.co.uk/business/itv',\n",
       "  'https://www.guardian.co.uk/media/fox-news',\n",
       "  'http://www.guardian.co.uk/media/the-scotsman',\n",
       "  'https://www.guardian.co.uk/travel/europe',\n",
       "  'http://www.guardian.co.uk/travel/uganda',\n",
       "  'http://www.guardian.co.uk/football/gallery/2012/jan/18/newcastle-united-legendary-no9-pictures?newsfeed=true',\n",
       "  'http://www.guardian.co.uk/world/simpson',\n",
       "  'http://www.guardian.co.uk/football/bulgaria',\n",
       "  'http://www.guardian.co.uk/football/morocco',\n",
       "  'http://www.guardian.co.uk/profile/stewart-lee',\n",
       "  'http://www.guardian.co.uk/uk/heather-mills',\n",
       "  'http://www.guardian.co.uk/business/britishlandcompany',\n",
       "  'http://www.guardian.co.uk/football/neil-lennon',\n",
       "  'https://www.guardian.co.uk/world/super-pacs',\n",
       "  'http://www.guardian.co.uk/media/sundaytimes',\n",
       "  'http://www.guardian.co.uk/media/simon-fuller',\n",
       "  'http://www.guardian.co.uk/world/may-day',\n",
       "  'https://www.guardian.co.uk/society/bullying',\n",
       "  'http://www.guardian.co.uk/society/public-sector-cuts+voluntarysector',\n",
       "  'https://www.guardian.co.uk/business/privateequity',\n",
       "  'http://www.guardian.co.uk/travel/albania',\n",
       "  'http://www.guardian.co.uk/culture/stewart-lee',\n",
       "  'http://www.guardian.co.uk/media/janet-street-porter',\n",
       "  'http://www.guardian.co.uk/football/england-under-21s',\n",
       "  'http://www.guardian.co.uk/books/benjamin-markovits',\n",
       "  'http://www.guardian.co.uk/travel/photography',\n",
       "  'http://www.guardian.co.uk/world/amanda-knox',\n",
       "  'http://www.guardian.co.uk/football/serbia',\n",
       "  'http://www.guardian.co.uk/tv-and-radio/comic-relief',\n",
       "  'https://www.guardian.co.uk/world/meredithkercher',\n",
       "  'http://www.guardian.co.uk/football/burton-albion',\n",
       "  'http://www.guardian.co.uk/politics/cherieblair',\n",
       "  'http://www.guardian.co.uk/film/kevin-costner',\n",
       "  'http://www.guardian.co.uk/film/series/trailer-review',\n",
       "  'http://www.guardian.co.uk/business/melrose',\n",
       "  'http://www.guardian.co.uk/music/maroon-5',\n",
       "  'http://www.guardian.co.uk/profile/john-simpson',\n",
       "  'http://www.guardian.co.uk/travel/bulgaria',\n",
       "  'http://www.guardian.co.uk/travel/poland',\n",
       "  'http://www.guardian.co.uk/profile/neil-gaiman',\n",
       "  'http://www.guardian.co.uk/football/paul-lambert',\n",
       "  'http://www.guardian.co.uk/business/hitachi',\n",
       "  'http://www.guardian.co.uk/travel/africa',\n",
       "  'http://www.guardian.co.uk/world/marshall-islands',\n",
       "  'http://www.guardian.co.uk/money/job-hunting',\n",
       "  'http://www.guardian.co.uk/football/leytonorient/results',\n",
       "  'http://www.guardian.co.uk/education/2008/may/01/universityguide.geographyandenvironmentstudies',\n",
       "  'http://www.guardian.co.uk/books/seamusheaney',\n",
       "  'http://www.guardian.co.uk/profile/vlad',\n",
       "  'http://www.guardian.co.uk/football/stan-kroenke',\n",
       "  'http://www.guardian.co.uk/business/globalrecession',\n",
       "  'http://www.guardian.co.uk/football/joe-hart',\n",
       "  'http://www.guardian.co.uk/profile/brendan',\n",
       "  'http://www.guardian.co.uk/profile/jerry-brotton',\n",
       "  'http://www.guardian.co.uk/tv-and-radio/springwatch',\n",
       "  'http://www.guardian.co.uk/football/cesc-fabregas',\n",
       "  'http://www.guardian.co.uk/profile/alison-mitchell',\n",
       "  'http://www.guardian.co.uk/business/marstons',\n",
       "  'https://www.guardian.co.uk/profile/estheraddley',\n",
       "  'http://www.guardian.co.uk/profile/royhattersley',\n",
       "  'http://www.guardian.co.uk/uk/doncaster',\n",
       "  'http://www.guardian.co.uk/profile/caroline-criado-perez',\n",
       "  'http://www.guardian.co.uk/football/ivorycoast',\n",
       "  'http://www.guardian.co.uk/football/martin-o-neill',\n",
       "  'http://www.guardian.co.uk/stage/augustwilson',\n",
       "  'http://www.guardian.co.uk/education/universityofessex',\n",
       "  'http://www.guardian.co.uk/football/cis-insurance-cup',\n",
       "  'http://www.guardian.co.uk/profile/karen-pickering',\n",
       "  'http://www.guardian.co.uk/media/david-montgomery',\n",
       "  'http://www.guardian.co.uk/profile/joncruddas',\n",
       "  'http://www.guardian.co.uk/profile/johnbrunton',\n",
       "  'http://www.guardian.co.uk/world/chris-christie',\n",
       "  'http://www.guardian.co.uk/travel/poland+bars',\n",
       "  'https://www.guardian.co.uk/profile/annabawden',\n",
       "  'http://www.guardian.co.uk/profile/mark-leonard',\n",
       "  'http://www.guardian.co.uk/profile/julia-unwin',\n",
       "  'http://www.guardian.co.uk/profile/nigel-bunyan',\n",
       "  'http://www.guardian.co.uk/profile/timashley',\n",
       "  'http://www.guardian.co.uk/society/youth-unemployment',\n",
       "  'http://www.guardian.co.uk/profile/jonrobins',\n",
       "  'http://www.guardian.co.uk/profile/chrispatten',\n",
       "  'http://www.guardian.co.uk/profile/liz-boulter',\n",
       "  'http://www.guardian.co.uk/profile/gilesfraser',\n",
       "  'http://www.guardian.co.uk/business/eddie-stobart',\n",
       "  'http://www.guardian.co.uk/books/cloud-atlas',\n",
       "  'http://www.guardian.co.uk/profile/andrew-gamble',\n",
       "  'http://www.guardian.co.uk/profile/malachiodoherty',\n",
       "  'http://www.guardian.co.uk/profile/stephen-chan',\n",
       "  'http://www.guardian.co.uk/profile/timjonze',\n",
       "  'http://www.guardian.co.uk/profile/raja-shehadeh',\n",
       "  'http://www.guardian.co.uk/profile/dennis-barker',\n",
       "  'http://www.guardian.co.uk/media/newsquest',\n",
       "  'http://www.guardian.co.uk/crosswords/crosswords+profile/brendan',\n",
       "  'http://www.guardian.co.uk/artanddesign/stirling-prize',\n",
       "  'https://www.guardian.co.uk/crosswords/crosswords+profile/crucible',\n",
       "  'http://www.guardian.co.uk/profile/emer-o-toole',\n",
       "  'http://www.guardian.co.uk/business/nikkei',\n",
       "  'http://www.guardian.co.uk/tv-and-radio/harry-hill',\n",
       "  'http://www.guardian.co.uk/business/andy-hornby',\n",
       "  'http://www.guardian.co.uk/books/edmund-de-waal',\n",
       "  'http://www.guardian.co.uk/books/armisteadmaupin',\n",
       "  'http://www.guardian.co.uk/travel/nimes',\n",
       "  'http://www.guardian.co.uk/books/alasdairgray',\n",
       "  'http://www.guardian.co.uk/tv-and-radio/blue-peter',\n",
       "  'http://www.guardian.co.uk/profile/melvyn-bragg',\n",
       "  'http://www.guardian.co.uk/profile/colin-mcdowell',\n",
       "  'http://www.guardian.co.uk/business/morganstanley',\n",
       "  'http://www.guardian.co.uk/environment/coral',\n",
       "  'http://www.guardian.co.uk/profile/keir-milburn',\n",
       "  'http://www.guardian.co.uk/music/christinaaguilera',\n",
       "  'http://www.guardian.co.uk/profile/rebeccasolnit',\n",
       "  'http://www.guardian.co.uk/profile/priyamvadagopal',\n",
       "  'http://www.guardian.co.uk/profile/claudine-spera',\n",
       "  'http://www.guardian.co.uk/profile/madeline-miller',\n",
       "  'http://www.guardian.co.uk/business/wal-mart',\n",
       "  'https://www.guardian.co.uk/tv-and-radio/matt-smith',\n",
       "  'http://www.guardian.co.uk/media/pauldacre',\n",
       "  'http://www.guardian.co.uk/business/virginrail',\n",
       "  'http://www.guardian.co.uk/books/elizabeth-hardwick',\n",
       "  'http://www.guardian.co.uk/football/bate-borisov',\n",
       "  'http://www.guardian.co.uk/artanddesign/lucas',\n",
       "  'http://www.guardian.co.uk/lifeandstyle/garyrhodes',\n",
       "  'http://www.guardian.co.uk/travel/iceland',\n",
       "  'http://www.guardian.co.uk/education/goldsmiths',\n",
       "  'http://www.guardian.co.uk/crosswords/crosswords+profile/arachne',\n",
       "  'http://www.guardian.co.uk/profile/tariqali',\n",
       "  'http://www.guardian.co.uk/profile/will-coldwell',\n",
       "  'http://www.guardian.co.uk/tv-and-radio/take-me-out',\n",
       "  'http://www.guardian.co.uk/music/slash',\n",
       "  'http://www.guardian.co.uk/profile/josephstiglitz',\n",
       "  'http://www.guardian.co.uk/society/hepatitis-c',\n",
       "  'http://www.guardian.co.uk/business/sir-stuart-rose',\n",
       "  'http://www.guardian.co.uk/education/royalcollegeofmusic',\n",
       "  'http://www.guardian.co.uk/lifeandstyle/summer-food-and-drink',\n",
       "  'http://www.guardian.co.uk/tv-and-radio/tv-news',\n",
       "  'https://www.guardian.co.uk/artanddesign/turnerprize',\n",
       "  'http://www.guardian.co.uk/uk/chester',\n",
       "  'http://www.guardian.co.uk/books/miguelcervantes',\n",
       "  'http://www.guardian.co.uk/profile/dorianlynskey',\n",
       "  'http://www.guardian.co.uk/travel/lausanne',\n",
       "  'http://www.guardian.co.uk/travel/swimming-holidays',\n",
       "  'http://www.guardian.co.uk/profile/omar-barghouti',\n",
       "  'http://www.guardian.co.uk/tv-and-radio/the-west-wing',\n",
       "  'http://www.guardian.co.uk/profile/deborahmoggach',\n",
       "  'https://www.guardian.co.uk/profile/antonybarnett',\n",
       "  'http://www.guardian.co.uk/artanddesign/constable',\n",
       "  'http://www.guardian.co.uk/profile/philip-alston',\n",
       "  'http://www.guardian.co.uk/profile/ewajasiewicz',\n",
       "  'https://www.guardian.co.uk/books/alice-walker',\n",
       "  'http://www.guardian.co.uk/books/johnupdike',\n",
       "  'http://www.guardian.co.uk/books/lionel-shriver',\n",
       "  'http://www.guardian.co.uk/film/movie/125814/swing-vote',\n",
       "  'http://www.guardian.co.uk/travel/dublin',\n",
       "  'http://www.guardian.co.uk/artanddesign/paula-rego',\n",
       "  'http://www.guardian.co.uk/business/blockbuster',\n",
       "  'http://www.guardian.co.uk/technology/firefox',\n",
       "  'https://www.guardian.co.uk/profile/pennyanderson',\n",
       "  'http://www.guardian.co.uk/tv-and-radio/vic-reeves',\n",
       "  'http://www.guardian.co.uk/travel/suffolk',\n",
       "  'http://www.guardian.co.uk/music/joss-stone',\n",
       "  'http://www.guardian.co.uk/film/movie/79280/summer.of.sam',\n",
       "  'http://www.guardian.co.uk/books/marktwain',\n",
       "  'http://www.guardian.co.uk/world/slovakia',\n",
       "  'http://www.guardian.co.uk/film/movie/142850/girl-with-the-dragon-tattoo'])"
      ]
     },
     "execution_count": 8,
     "metadata": {},
     "output_type": "execute_result"
    },
    {
     "name": "stdout",
     "output_type": "stream",
     "text": [
      "time: 2.84 s\n"
     ]
    }
   ],
   "source": [
    "# search using google. if this cell fails then rerun will try again with new proxy_url.\n",
    "# maximum 300 results per search. can be increased by running separate searches per week.\n",
    "q = \"sport\"\n",
    "n = 1000\n",
    "domain = \"www.guardian.co.uk\"\n",
    "urls = s.search(q, n=n, domain=domain, to_date=\"20191230\", from_date=\"20190101\")\n",
    "len(urls), urls"
   ]
  },
  {
   "cell_type": "code",
   "execution_count": 18,
   "metadata": {},
   "outputs": [
    {
     "name": "stderr",
     "output_type": "stream",
     "text": [
      "[cellevents:INFO]:starting (cellevents.py:43, time=Apr-07 09:17)\n",
      "[sm.search.mproxy:INFO]:3.248.253.104 stopped (mproxy.py:110, time=Apr-07 09:17)\n"
     ]
    },
    {
     "name": "stdout",
     "output_type": "stream",
     "text": [
      "time: 1.53 s\n"
     ]
    }
   ],
   "source": [
    "# stop all proxy servers\n",
    "m.stop()"
   ]
  }
 ],
 "metadata": {
  "jupytext": {
   "text_representation": {
    "extension": ".py",
    "format_name": "percent",
    "format_version": "1.2",
    "jupytext_version": "1.2.1"
   }
  },
  "kernelspec": {
   "display_name": "Python 3",
   "language": "python",
   "name": "python3"
  },
  "language_info": {
   "codemirror_mode": {
    "name": "ipython",
    "version": 3
   },
   "file_extension": ".py",
   "mimetype": "text/x-python",
   "name": "python",
   "nbconvert_exporter": "python",
   "pygments_lexer": "ipython3",
   "version": "3.7.5"
  }
 },
 "nbformat": 4,
 "nbformat_minor": 4
}
